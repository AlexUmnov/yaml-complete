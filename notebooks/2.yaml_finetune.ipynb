{
  "nbformat": 4,
  "nbformat_minor": 0,
  "metadata": {
    "colab": {
      "provenance": [],
      "machine_shape": "hm",
      "gpuType": "A100"
    },
    "kernelspec": {
      "name": "python3",
      "display_name": "Python 3"
    },
    "language_info": {
      "name": "python"
    },
    "accelerator": "GPU",
    "widgets": {
      "application/vnd.jupyter.widget-state+json": {
        "95f88b571e6249ed8dc29aa8eb776759": {
          "model_module": "@jupyter-widgets/controls",
          "model_name": "VBoxModel",
          "model_module_version": "1.5.0",
          "state": {
            "_dom_classes": [],
            "_model_module": "@jupyter-widgets/controls",
            "_model_module_version": "1.5.0",
            "_model_name": "VBoxModel",
            "_view_count": null,
            "_view_module": "@jupyter-widgets/controls",
            "_view_module_version": "1.5.0",
            "_view_name": "VBoxView",
            "box_style": "",
            "children": [
              "IPY_MODEL_d77b955281054f0fb005e899b7842c70",
              "IPY_MODEL_11daa6926cb54681bdfb1264105b001a",
              "IPY_MODEL_f2eb43cc16b6423988f143f3362368ad",
              "IPY_MODEL_ef2a9171c401431c82e66ff2357a5394"
            ],
            "layout": "IPY_MODEL_90c063d93a44437fb37270d0ea4b7992"
          }
        },
        "3a1f069234784703969c78c40562574b": {
          "model_module": "@jupyter-widgets/controls",
          "model_name": "HTMLModel",
          "model_module_version": "1.5.0",
          "state": {
            "_dom_classes": [],
            "_model_module": "@jupyter-widgets/controls",
            "_model_module_version": "1.5.0",
            "_model_name": "HTMLModel",
            "_view_count": null,
            "_view_module": "@jupyter-widgets/controls",
            "_view_module_version": "1.5.0",
            "_view_name": "HTMLView",
            "description": "",
            "description_tooltip": null,
            "layout": "IPY_MODEL_bf2534cd209e4228a98cb39ec151bd01",
            "placeholder": "​",
            "style": "IPY_MODEL_2c06f88064ac42eda0ad584d00b8d922",
            "value": "<center> <img\nsrc=https://huggingface.co/front/assets/huggingface_logo-noborder.svg\nalt='Hugging Face'> <br> Copy a token from <a\nhref=\"https://huggingface.co/settings/tokens\" target=\"_blank\">your Hugging Face\ntokens page</a> and paste it below. <br> Immediately click login after copying\nyour token or it might be stored in plain text in this notebook file. </center>"
          }
        },
        "97150af5ef7046d2a46c952683fced5d": {
          "model_module": "@jupyter-widgets/controls",
          "model_name": "PasswordModel",
          "model_module_version": "1.5.0",
          "state": {
            "_dom_classes": [],
            "_model_module": "@jupyter-widgets/controls",
            "_model_module_version": "1.5.0",
            "_model_name": "PasswordModel",
            "_view_count": null,
            "_view_module": "@jupyter-widgets/controls",
            "_view_module_version": "1.5.0",
            "_view_name": "PasswordView",
            "continuous_update": true,
            "description": "Token:",
            "description_tooltip": null,
            "disabled": false,
            "layout": "IPY_MODEL_342a07f9ea0a4b5b9b3f3dc8f5c72b7e",
            "placeholder": "​",
            "style": "IPY_MODEL_cbf777f332374f20b2ce3ce2bc0ac564",
            "value": ""
          }
        },
        "ab9b1bd212ce495697a92f11cae28418": {
          "model_module": "@jupyter-widgets/controls",
          "model_name": "CheckboxModel",
          "model_module_version": "1.5.0",
          "state": {
            "_dom_classes": [],
            "_model_module": "@jupyter-widgets/controls",
            "_model_module_version": "1.5.0",
            "_model_name": "CheckboxModel",
            "_view_count": null,
            "_view_module": "@jupyter-widgets/controls",
            "_view_module_version": "1.5.0",
            "_view_name": "CheckboxView",
            "description": "Add token as git credential?",
            "description_tooltip": null,
            "disabled": false,
            "indent": true,
            "layout": "IPY_MODEL_6171edeb79754faa9f582e066ca3108c",
            "style": "IPY_MODEL_8c7aa6f695864ba3b33ef6d01296e795",
            "value": true
          }
        },
        "b96e85750b794e179768c7e776d2493c": {
          "model_module": "@jupyter-widgets/controls",
          "model_name": "ButtonModel",
          "model_module_version": "1.5.0",
          "state": {
            "_dom_classes": [],
            "_model_module": "@jupyter-widgets/controls",
            "_model_module_version": "1.5.0",
            "_model_name": "ButtonModel",
            "_view_count": null,
            "_view_module": "@jupyter-widgets/controls",
            "_view_module_version": "1.5.0",
            "_view_name": "ButtonView",
            "button_style": "",
            "description": "Login",
            "disabled": false,
            "icon": "",
            "layout": "IPY_MODEL_cdf88e05122b45828922c080d2495947",
            "style": "IPY_MODEL_7485f9fc30e64ff5a1eab14741242752",
            "tooltip": ""
          }
        },
        "0d4fadd6191e41aeb87e910996535d4a": {
          "model_module": "@jupyter-widgets/controls",
          "model_name": "HTMLModel",
          "model_module_version": "1.5.0",
          "state": {
            "_dom_classes": [],
            "_model_module": "@jupyter-widgets/controls",
            "_model_module_version": "1.5.0",
            "_model_name": "HTMLModel",
            "_view_count": null,
            "_view_module": "@jupyter-widgets/controls",
            "_view_module_version": "1.5.0",
            "_view_name": "HTMLView",
            "description": "",
            "description_tooltip": null,
            "layout": "IPY_MODEL_23240f60b58b44d98cf5a6627661408a",
            "placeholder": "​",
            "style": "IPY_MODEL_152a91fedfe3424d8bab3066029b465e",
            "value": "\n<b>Pro Tip:</b> If you don't already have one, you can create a dedicated\n'notebooks' token with 'write' access, that you can then easily reuse for all\nnotebooks. </center>"
          }
        },
        "90c063d93a44437fb37270d0ea4b7992": {
          "model_module": "@jupyter-widgets/base",
          "model_name": "LayoutModel",
          "model_module_version": "1.2.0",
          "state": {
            "_model_module": "@jupyter-widgets/base",
            "_model_module_version": "1.2.0",
            "_model_name": "LayoutModel",
            "_view_count": null,
            "_view_module": "@jupyter-widgets/base",
            "_view_module_version": "1.2.0",
            "_view_name": "LayoutView",
            "align_content": null,
            "align_items": "center",
            "align_self": null,
            "border": null,
            "bottom": null,
            "display": "flex",
            "flex": null,
            "flex_flow": "column",
            "grid_area": null,
            "grid_auto_columns": null,
            "grid_auto_flow": null,
            "grid_auto_rows": null,
            "grid_column": null,
            "grid_gap": null,
            "grid_row": null,
            "grid_template_areas": null,
            "grid_template_columns": null,
            "grid_template_rows": null,
            "height": null,
            "justify_content": null,
            "justify_items": null,
            "left": null,
            "margin": null,
            "max_height": null,
            "max_width": null,
            "min_height": null,
            "min_width": null,
            "object_fit": null,
            "object_position": null,
            "order": null,
            "overflow": null,
            "overflow_x": null,
            "overflow_y": null,
            "padding": null,
            "right": null,
            "top": null,
            "visibility": null,
            "width": "50%"
          }
        },
        "bf2534cd209e4228a98cb39ec151bd01": {
          "model_module": "@jupyter-widgets/base",
          "model_name": "LayoutModel",
          "model_module_version": "1.2.0",
          "state": {
            "_model_module": "@jupyter-widgets/base",
            "_model_module_version": "1.2.0",
            "_model_name": "LayoutModel",
            "_view_count": null,
            "_view_module": "@jupyter-widgets/base",
            "_view_module_version": "1.2.0",
            "_view_name": "LayoutView",
            "align_content": null,
            "align_items": null,
            "align_self": null,
            "border": null,
            "bottom": null,
            "display": null,
            "flex": null,
            "flex_flow": null,
            "grid_area": null,
            "grid_auto_columns": null,
            "grid_auto_flow": null,
            "grid_auto_rows": null,
            "grid_column": null,
            "grid_gap": null,
            "grid_row": null,
            "grid_template_areas": null,
            "grid_template_columns": null,
            "grid_template_rows": null,
            "height": null,
            "justify_content": null,
            "justify_items": null,
            "left": null,
            "margin": null,
            "max_height": null,
            "max_width": null,
            "min_height": null,
            "min_width": null,
            "object_fit": null,
            "object_position": null,
            "order": null,
            "overflow": null,
            "overflow_x": null,
            "overflow_y": null,
            "padding": null,
            "right": null,
            "top": null,
            "visibility": null,
            "width": null
          }
        },
        "2c06f88064ac42eda0ad584d00b8d922": {
          "model_module": "@jupyter-widgets/controls",
          "model_name": "DescriptionStyleModel",
          "model_module_version": "1.5.0",
          "state": {
            "_model_module": "@jupyter-widgets/controls",
            "_model_module_version": "1.5.0",
            "_model_name": "DescriptionStyleModel",
            "_view_count": null,
            "_view_module": "@jupyter-widgets/base",
            "_view_module_version": "1.2.0",
            "_view_name": "StyleView",
            "description_width": ""
          }
        },
        "342a07f9ea0a4b5b9b3f3dc8f5c72b7e": {
          "model_module": "@jupyter-widgets/base",
          "model_name": "LayoutModel",
          "model_module_version": "1.2.0",
          "state": {
            "_model_module": "@jupyter-widgets/base",
            "_model_module_version": "1.2.0",
            "_model_name": "LayoutModel",
            "_view_count": null,
            "_view_module": "@jupyter-widgets/base",
            "_view_module_version": "1.2.0",
            "_view_name": "LayoutView",
            "align_content": null,
            "align_items": null,
            "align_self": null,
            "border": null,
            "bottom": null,
            "display": null,
            "flex": null,
            "flex_flow": null,
            "grid_area": null,
            "grid_auto_columns": null,
            "grid_auto_flow": null,
            "grid_auto_rows": null,
            "grid_column": null,
            "grid_gap": null,
            "grid_row": null,
            "grid_template_areas": null,
            "grid_template_columns": null,
            "grid_template_rows": null,
            "height": null,
            "justify_content": null,
            "justify_items": null,
            "left": null,
            "margin": null,
            "max_height": null,
            "max_width": null,
            "min_height": null,
            "min_width": null,
            "object_fit": null,
            "object_position": null,
            "order": null,
            "overflow": null,
            "overflow_x": null,
            "overflow_y": null,
            "padding": null,
            "right": null,
            "top": null,
            "visibility": null,
            "width": null
          }
        },
        "cbf777f332374f20b2ce3ce2bc0ac564": {
          "model_module": "@jupyter-widgets/controls",
          "model_name": "DescriptionStyleModel",
          "model_module_version": "1.5.0",
          "state": {
            "_model_module": "@jupyter-widgets/controls",
            "_model_module_version": "1.5.0",
            "_model_name": "DescriptionStyleModel",
            "_view_count": null,
            "_view_module": "@jupyter-widgets/base",
            "_view_module_version": "1.2.0",
            "_view_name": "StyleView",
            "description_width": ""
          }
        },
        "6171edeb79754faa9f582e066ca3108c": {
          "model_module": "@jupyter-widgets/base",
          "model_name": "LayoutModel",
          "model_module_version": "1.2.0",
          "state": {
            "_model_module": "@jupyter-widgets/base",
            "_model_module_version": "1.2.0",
            "_model_name": "LayoutModel",
            "_view_count": null,
            "_view_module": "@jupyter-widgets/base",
            "_view_module_version": "1.2.0",
            "_view_name": "LayoutView",
            "align_content": null,
            "align_items": null,
            "align_self": null,
            "border": null,
            "bottom": null,
            "display": null,
            "flex": null,
            "flex_flow": null,
            "grid_area": null,
            "grid_auto_columns": null,
            "grid_auto_flow": null,
            "grid_auto_rows": null,
            "grid_column": null,
            "grid_gap": null,
            "grid_row": null,
            "grid_template_areas": null,
            "grid_template_columns": null,
            "grid_template_rows": null,
            "height": null,
            "justify_content": null,
            "justify_items": null,
            "left": null,
            "margin": null,
            "max_height": null,
            "max_width": null,
            "min_height": null,
            "min_width": null,
            "object_fit": null,
            "object_position": null,
            "order": null,
            "overflow": null,
            "overflow_x": null,
            "overflow_y": null,
            "padding": null,
            "right": null,
            "top": null,
            "visibility": null,
            "width": null
          }
        },
        "8c7aa6f695864ba3b33ef6d01296e795": {
          "model_module": "@jupyter-widgets/controls",
          "model_name": "DescriptionStyleModel",
          "model_module_version": "1.5.0",
          "state": {
            "_model_module": "@jupyter-widgets/controls",
            "_model_module_version": "1.5.0",
            "_model_name": "DescriptionStyleModel",
            "_view_count": null,
            "_view_module": "@jupyter-widgets/base",
            "_view_module_version": "1.2.0",
            "_view_name": "StyleView",
            "description_width": ""
          }
        },
        "cdf88e05122b45828922c080d2495947": {
          "model_module": "@jupyter-widgets/base",
          "model_name": "LayoutModel",
          "model_module_version": "1.2.0",
          "state": {
            "_model_module": "@jupyter-widgets/base",
            "_model_module_version": "1.2.0",
            "_model_name": "LayoutModel",
            "_view_count": null,
            "_view_module": "@jupyter-widgets/base",
            "_view_module_version": "1.2.0",
            "_view_name": "LayoutView",
            "align_content": null,
            "align_items": null,
            "align_self": null,
            "border": null,
            "bottom": null,
            "display": null,
            "flex": null,
            "flex_flow": null,
            "grid_area": null,
            "grid_auto_columns": null,
            "grid_auto_flow": null,
            "grid_auto_rows": null,
            "grid_column": null,
            "grid_gap": null,
            "grid_row": null,
            "grid_template_areas": null,
            "grid_template_columns": null,
            "grid_template_rows": null,
            "height": null,
            "justify_content": null,
            "justify_items": null,
            "left": null,
            "margin": null,
            "max_height": null,
            "max_width": null,
            "min_height": null,
            "min_width": null,
            "object_fit": null,
            "object_position": null,
            "order": null,
            "overflow": null,
            "overflow_x": null,
            "overflow_y": null,
            "padding": null,
            "right": null,
            "top": null,
            "visibility": null,
            "width": null
          }
        },
        "7485f9fc30e64ff5a1eab14741242752": {
          "model_module": "@jupyter-widgets/controls",
          "model_name": "ButtonStyleModel",
          "model_module_version": "1.5.0",
          "state": {
            "_model_module": "@jupyter-widgets/controls",
            "_model_module_version": "1.5.0",
            "_model_name": "ButtonStyleModel",
            "_view_count": null,
            "_view_module": "@jupyter-widgets/base",
            "_view_module_version": "1.2.0",
            "_view_name": "StyleView",
            "button_color": null,
            "font_weight": ""
          }
        },
        "23240f60b58b44d98cf5a6627661408a": {
          "model_module": "@jupyter-widgets/base",
          "model_name": "LayoutModel",
          "model_module_version": "1.2.0",
          "state": {
            "_model_module": "@jupyter-widgets/base",
            "_model_module_version": "1.2.0",
            "_model_name": "LayoutModel",
            "_view_count": null,
            "_view_module": "@jupyter-widgets/base",
            "_view_module_version": "1.2.0",
            "_view_name": "LayoutView",
            "align_content": null,
            "align_items": null,
            "align_self": null,
            "border": null,
            "bottom": null,
            "display": null,
            "flex": null,
            "flex_flow": null,
            "grid_area": null,
            "grid_auto_columns": null,
            "grid_auto_flow": null,
            "grid_auto_rows": null,
            "grid_column": null,
            "grid_gap": null,
            "grid_row": null,
            "grid_template_areas": null,
            "grid_template_columns": null,
            "grid_template_rows": null,
            "height": null,
            "justify_content": null,
            "justify_items": null,
            "left": null,
            "margin": null,
            "max_height": null,
            "max_width": null,
            "min_height": null,
            "min_width": null,
            "object_fit": null,
            "object_position": null,
            "order": null,
            "overflow": null,
            "overflow_x": null,
            "overflow_y": null,
            "padding": null,
            "right": null,
            "top": null,
            "visibility": null,
            "width": null
          }
        },
        "152a91fedfe3424d8bab3066029b465e": {
          "model_module": "@jupyter-widgets/controls",
          "model_name": "DescriptionStyleModel",
          "model_module_version": "1.5.0",
          "state": {
            "_model_module": "@jupyter-widgets/controls",
            "_model_module_version": "1.5.0",
            "_model_name": "DescriptionStyleModel",
            "_view_count": null,
            "_view_module": "@jupyter-widgets/base",
            "_view_module_version": "1.2.0",
            "_view_name": "StyleView",
            "description_width": ""
          }
        },
        "1a2b241edfc24ff29d7c4e7855e9d3aa": {
          "model_module": "@jupyter-widgets/controls",
          "model_name": "LabelModel",
          "model_module_version": "1.5.0",
          "state": {
            "_dom_classes": [],
            "_model_module": "@jupyter-widgets/controls",
            "_model_module_version": "1.5.0",
            "_model_name": "LabelModel",
            "_view_count": null,
            "_view_module": "@jupyter-widgets/controls",
            "_view_module_version": "1.5.0",
            "_view_name": "LabelView",
            "description": "",
            "description_tooltip": null,
            "layout": "IPY_MODEL_57e4ff0e1dad481f8b18b05994f30ef8",
            "placeholder": "​",
            "style": "IPY_MODEL_2f1d89884c1a467c9583af366dd2b08b",
            "value": "Connecting..."
          }
        },
        "57e4ff0e1dad481f8b18b05994f30ef8": {
          "model_module": "@jupyter-widgets/base",
          "model_name": "LayoutModel",
          "model_module_version": "1.2.0",
          "state": {
            "_model_module": "@jupyter-widgets/base",
            "_model_module_version": "1.2.0",
            "_model_name": "LayoutModel",
            "_view_count": null,
            "_view_module": "@jupyter-widgets/base",
            "_view_module_version": "1.2.0",
            "_view_name": "LayoutView",
            "align_content": null,
            "align_items": null,
            "align_self": null,
            "border": null,
            "bottom": null,
            "display": null,
            "flex": null,
            "flex_flow": null,
            "grid_area": null,
            "grid_auto_columns": null,
            "grid_auto_flow": null,
            "grid_auto_rows": null,
            "grid_column": null,
            "grid_gap": null,
            "grid_row": null,
            "grid_template_areas": null,
            "grid_template_columns": null,
            "grid_template_rows": null,
            "height": null,
            "justify_content": null,
            "justify_items": null,
            "left": null,
            "margin": null,
            "max_height": null,
            "max_width": null,
            "min_height": null,
            "min_width": null,
            "object_fit": null,
            "object_position": null,
            "order": null,
            "overflow": null,
            "overflow_x": null,
            "overflow_y": null,
            "padding": null,
            "right": null,
            "top": null,
            "visibility": null,
            "width": null
          }
        },
        "2f1d89884c1a467c9583af366dd2b08b": {
          "model_module": "@jupyter-widgets/controls",
          "model_name": "DescriptionStyleModel",
          "model_module_version": "1.5.0",
          "state": {
            "_model_module": "@jupyter-widgets/controls",
            "_model_module_version": "1.5.0",
            "_model_name": "DescriptionStyleModel",
            "_view_count": null,
            "_view_module": "@jupyter-widgets/base",
            "_view_module_version": "1.2.0",
            "_view_name": "StyleView",
            "description_width": ""
          }
        },
        "d77b955281054f0fb005e899b7842c70": {
          "model_module": "@jupyter-widgets/controls",
          "model_name": "LabelModel",
          "model_module_version": "1.5.0",
          "state": {
            "_dom_classes": [],
            "_model_module": "@jupyter-widgets/controls",
            "_model_module_version": "1.5.0",
            "_model_name": "LabelModel",
            "_view_count": null,
            "_view_module": "@jupyter-widgets/controls",
            "_view_module_version": "1.5.0",
            "_view_name": "LabelView",
            "description": "",
            "description_tooltip": null,
            "layout": "IPY_MODEL_f48796c2989645968bdf35a19be5f916",
            "placeholder": "​",
            "style": "IPY_MODEL_4f951826ce1c4890921dd4cf0fbc48d4",
            "value": "Token is valid (permission: write)."
          }
        },
        "11daa6926cb54681bdfb1264105b001a": {
          "model_module": "@jupyter-widgets/controls",
          "model_name": "LabelModel",
          "model_module_version": "1.5.0",
          "state": {
            "_dom_classes": [],
            "_model_module": "@jupyter-widgets/controls",
            "_model_module_version": "1.5.0",
            "_model_name": "LabelModel",
            "_view_count": null,
            "_view_module": "@jupyter-widgets/controls",
            "_view_module_version": "1.5.0",
            "_view_name": "LabelView",
            "description": "",
            "description_tooltip": null,
            "layout": "IPY_MODEL_44cd746f55414317aa511eca1ce1b351",
            "placeholder": "​",
            "style": "IPY_MODEL_4dcf48be25094b20b8d68bedb95d9881",
            "value": "Your token has been saved in your configured git credential helpers (store)."
          }
        },
        "f2eb43cc16b6423988f143f3362368ad": {
          "model_module": "@jupyter-widgets/controls",
          "model_name": "LabelModel",
          "model_module_version": "1.5.0",
          "state": {
            "_dom_classes": [],
            "_model_module": "@jupyter-widgets/controls",
            "_model_module_version": "1.5.0",
            "_model_name": "LabelModel",
            "_view_count": null,
            "_view_module": "@jupyter-widgets/controls",
            "_view_module_version": "1.5.0",
            "_view_name": "LabelView",
            "description": "",
            "description_tooltip": null,
            "layout": "IPY_MODEL_de28aad2bf3245c683f451b1fb3bd0e7",
            "placeholder": "​",
            "style": "IPY_MODEL_e2ebf1f02c534f47b0c3b27a4d642652",
            "value": "Your token has been saved to /root/.cache/huggingface/token"
          }
        },
        "ef2a9171c401431c82e66ff2357a5394": {
          "model_module": "@jupyter-widgets/controls",
          "model_name": "LabelModel",
          "model_module_version": "1.5.0",
          "state": {
            "_dom_classes": [],
            "_model_module": "@jupyter-widgets/controls",
            "_model_module_version": "1.5.0",
            "_model_name": "LabelModel",
            "_view_count": null,
            "_view_module": "@jupyter-widgets/controls",
            "_view_module_version": "1.5.0",
            "_view_name": "LabelView",
            "description": "",
            "description_tooltip": null,
            "layout": "IPY_MODEL_cc62c82995c74916b171a99a22ea4d20",
            "placeholder": "​",
            "style": "IPY_MODEL_7e22a301f8c44b52a778e7a13e4d163e",
            "value": "Login successful"
          }
        },
        "f48796c2989645968bdf35a19be5f916": {
          "model_module": "@jupyter-widgets/base",
          "model_name": "LayoutModel",
          "model_module_version": "1.2.0",
          "state": {
            "_model_module": "@jupyter-widgets/base",
            "_model_module_version": "1.2.0",
            "_model_name": "LayoutModel",
            "_view_count": null,
            "_view_module": "@jupyter-widgets/base",
            "_view_module_version": "1.2.0",
            "_view_name": "LayoutView",
            "align_content": null,
            "align_items": null,
            "align_self": null,
            "border": null,
            "bottom": null,
            "display": null,
            "flex": null,
            "flex_flow": null,
            "grid_area": null,
            "grid_auto_columns": null,
            "grid_auto_flow": null,
            "grid_auto_rows": null,
            "grid_column": null,
            "grid_gap": null,
            "grid_row": null,
            "grid_template_areas": null,
            "grid_template_columns": null,
            "grid_template_rows": null,
            "height": null,
            "justify_content": null,
            "justify_items": null,
            "left": null,
            "margin": null,
            "max_height": null,
            "max_width": null,
            "min_height": null,
            "min_width": null,
            "object_fit": null,
            "object_position": null,
            "order": null,
            "overflow": null,
            "overflow_x": null,
            "overflow_y": null,
            "padding": null,
            "right": null,
            "top": null,
            "visibility": null,
            "width": null
          }
        },
        "4f951826ce1c4890921dd4cf0fbc48d4": {
          "model_module": "@jupyter-widgets/controls",
          "model_name": "DescriptionStyleModel",
          "model_module_version": "1.5.0",
          "state": {
            "_model_module": "@jupyter-widgets/controls",
            "_model_module_version": "1.5.0",
            "_model_name": "DescriptionStyleModel",
            "_view_count": null,
            "_view_module": "@jupyter-widgets/base",
            "_view_module_version": "1.2.0",
            "_view_name": "StyleView",
            "description_width": ""
          }
        },
        "44cd746f55414317aa511eca1ce1b351": {
          "model_module": "@jupyter-widgets/base",
          "model_name": "LayoutModel",
          "model_module_version": "1.2.0",
          "state": {
            "_model_module": "@jupyter-widgets/base",
            "_model_module_version": "1.2.0",
            "_model_name": "LayoutModel",
            "_view_count": null,
            "_view_module": "@jupyter-widgets/base",
            "_view_module_version": "1.2.0",
            "_view_name": "LayoutView",
            "align_content": null,
            "align_items": null,
            "align_self": null,
            "border": null,
            "bottom": null,
            "display": null,
            "flex": null,
            "flex_flow": null,
            "grid_area": null,
            "grid_auto_columns": null,
            "grid_auto_flow": null,
            "grid_auto_rows": null,
            "grid_column": null,
            "grid_gap": null,
            "grid_row": null,
            "grid_template_areas": null,
            "grid_template_columns": null,
            "grid_template_rows": null,
            "height": null,
            "justify_content": null,
            "justify_items": null,
            "left": null,
            "margin": null,
            "max_height": null,
            "max_width": null,
            "min_height": null,
            "min_width": null,
            "object_fit": null,
            "object_position": null,
            "order": null,
            "overflow": null,
            "overflow_x": null,
            "overflow_y": null,
            "padding": null,
            "right": null,
            "top": null,
            "visibility": null,
            "width": null
          }
        },
        "4dcf48be25094b20b8d68bedb95d9881": {
          "model_module": "@jupyter-widgets/controls",
          "model_name": "DescriptionStyleModel",
          "model_module_version": "1.5.0",
          "state": {
            "_model_module": "@jupyter-widgets/controls",
            "_model_module_version": "1.5.0",
            "_model_name": "DescriptionStyleModel",
            "_view_count": null,
            "_view_module": "@jupyter-widgets/base",
            "_view_module_version": "1.2.0",
            "_view_name": "StyleView",
            "description_width": ""
          }
        },
        "de28aad2bf3245c683f451b1fb3bd0e7": {
          "model_module": "@jupyter-widgets/base",
          "model_name": "LayoutModel",
          "model_module_version": "1.2.0",
          "state": {
            "_model_module": "@jupyter-widgets/base",
            "_model_module_version": "1.2.0",
            "_model_name": "LayoutModel",
            "_view_count": null,
            "_view_module": "@jupyter-widgets/base",
            "_view_module_version": "1.2.0",
            "_view_name": "LayoutView",
            "align_content": null,
            "align_items": null,
            "align_self": null,
            "border": null,
            "bottom": null,
            "display": null,
            "flex": null,
            "flex_flow": null,
            "grid_area": null,
            "grid_auto_columns": null,
            "grid_auto_flow": null,
            "grid_auto_rows": null,
            "grid_column": null,
            "grid_gap": null,
            "grid_row": null,
            "grid_template_areas": null,
            "grid_template_columns": null,
            "grid_template_rows": null,
            "height": null,
            "justify_content": null,
            "justify_items": null,
            "left": null,
            "margin": null,
            "max_height": null,
            "max_width": null,
            "min_height": null,
            "min_width": null,
            "object_fit": null,
            "object_position": null,
            "order": null,
            "overflow": null,
            "overflow_x": null,
            "overflow_y": null,
            "padding": null,
            "right": null,
            "top": null,
            "visibility": null,
            "width": null
          }
        },
        "e2ebf1f02c534f47b0c3b27a4d642652": {
          "model_module": "@jupyter-widgets/controls",
          "model_name": "DescriptionStyleModel",
          "model_module_version": "1.5.0",
          "state": {
            "_model_module": "@jupyter-widgets/controls",
            "_model_module_version": "1.5.0",
            "_model_name": "DescriptionStyleModel",
            "_view_count": null,
            "_view_module": "@jupyter-widgets/base",
            "_view_module_version": "1.2.0",
            "_view_name": "StyleView",
            "description_width": ""
          }
        },
        "cc62c82995c74916b171a99a22ea4d20": {
          "model_module": "@jupyter-widgets/base",
          "model_name": "LayoutModel",
          "model_module_version": "1.2.0",
          "state": {
            "_model_module": "@jupyter-widgets/base",
            "_model_module_version": "1.2.0",
            "_model_name": "LayoutModel",
            "_view_count": null,
            "_view_module": "@jupyter-widgets/base",
            "_view_module_version": "1.2.0",
            "_view_name": "LayoutView",
            "align_content": null,
            "align_items": null,
            "align_self": null,
            "border": null,
            "bottom": null,
            "display": null,
            "flex": null,
            "flex_flow": null,
            "grid_area": null,
            "grid_auto_columns": null,
            "grid_auto_flow": null,
            "grid_auto_rows": null,
            "grid_column": null,
            "grid_gap": null,
            "grid_row": null,
            "grid_template_areas": null,
            "grid_template_columns": null,
            "grid_template_rows": null,
            "height": null,
            "justify_content": null,
            "justify_items": null,
            "left": null,
            "margin": null,
            "max_height": null,
            "max_width": null,
            "min_height": null,
            "min_width": null,
            "object_fit": null,
            "object_position": null,
            "order": null,
            "overflow": null,
            "overflow_x": null,
            "overflow_y": null,
            "padding": null,
            "right": null,
            "top": null,
            "visibility": null,
            "width": null
          }
        },
        "7e22a301f8c44b52a778e7a13e4d163e": {
          "model_module": "@jupyter-widgets/controls",
          "model_name": "DescriptionStyleModel",
          "model_module_version": "1.5.0",
          "state": {
            "_model_module": "@jupyter-widgets/controls",
            "_model_module_version": "1.5.0",
            "_model_name": "DescriptionStyleModel",
            "_view_count": null,
            "_view_module": "@jupyter-widgets/base",
            "_view_module_version": "1.2.0",
            "_view_name": "StyleView",
            "description_width": ""
          }
        },
        "3fd5b0aec3804d018a4d2d6545d3efea": {
          "model_module": "@jupyter-widgets/controls",
          "model_name": "HBoxModel",
          "model_module_version": "1.5.0",
          "state": {
            "_dom_classes": [],
            "_model_module": "@jupyter-widgets/controls",
            "_model_module_version": "1.5.0",
            "_model_name": "HBoxModel",
            "_view_count": null,
            "_view_module": "@jupyter-widgets/controls",
            "_view_module_version": "1.5.0",
            "_view_name": "HBoxView",
            "box_style": "",
            "children": [
              "IPY_MODEL_74c5675d2285420fae19a3455091ec54",
              "IPY_MODEL_66d94723194640c087c43ea74dc85dd7",
              "IPY_MODEL_5696326911d04ae284d459576748fef7"
            ],
            "layout": "IPY_MODEL_2bbadb4503f34616b001437cafde5308"
          }
        },
        "74c5675d2285420fae19a3455091ec54": {
          "model_module": "@jupyter-widgets/controls",
          "model_name": "HTMLModel",
          "model_module_version": "1.5.0",
          "state": {
            "_dom_classes": [],
            "_model_module": "@jupyter-widgets/controls",
            "_model_module_version": "1.5.0",
            "_model_name": "HTMLModel",
            "_view_count": null,
            "_view_module": "@jupyter-widgets/controls",
            "_view_module_version": "1.5.0",
            "_view_name": "HTMLView",
            "description": "",
            "description_tooltip": null,
            "layout": "IPY_MODEL_e50f045a77624e67ae8d4d2703e7d020",
            "placeholder": "​",
            "style": "IPY_MODEL_0e1fcaf52f1e49f7bbe3b7d0f2cf130e",
            "value": "model.safetensors: 100%"
          }
        },
        "66d94723194640c087c43ea74dc85dd7": {
          "model_module": "@jupyter-widgets/controls",
          "model_name": "FloatProgressModel",
          "model_module_version": "1.5.0",
          "state": {
            "_dom_classes": [],
            "_model_module": "@jupyter-widgets/controls",
            "_model_module_version": "1.5.0",
            "_model_name": "FloatProgressModel",
            "_view_count": null,
            "_view_module": "@jupyter-widgets/controls",
            "_view_module_version": "1.5.0",
            "_view_name": "ProgressView",
            "bar_style": "success",
            "description": "",
            "description_tooltip": null,
            "layout": "IPY_MODEL_e74ba5a9152a4ce7842f4f90a0826b98",
            "max": 1426867192,
            "min": 0,
            "orientation": "horizontal",
            "style": "IPY_MODEL_be749396187d42bdb0a42920163568d0",
            "value": 1426867192
          }
        },
        "5696326911d04ae284d459576748fef7": {
          "model_module": "@jupyter-widgets/controls",
          "model_name": "HTMLModel",
          "model_module_version": "1.5.0",
          "state": {
            "_dom_classes": [],
            "_model_module": "@jupyter-widgets/controls",
            "_model_module_version": "1.5.0",
            "_model_name": "HTMLModel",
            "_view_count": null,
            "_view_module": "@jupyter-widgets/controls",
            "_view_module_version": "1.5.0",
            "_view_name": "HTMLView",
            "description": "",
            "description_tooltip": null,
            "layout": "IPY_MODEL_ae66cd12ca344c72aaf287bfac13ab3c",
            "placeholder": "​",
            "style": "IPY_MODEL_090b9aa3e0fe438b99bafb7023558ebd",
            "value": " 1.43G/1.43G [01:32&lt;00:00, 25.6MB/s]"
          }
        },
        "2bbadb4503f34616b001437cafde5308": {
          "model_module": "@jupyter-widgets/base",
          "model_name": "LayoutModel",
          "model_module_version": "1.2.0",
          "state": {
            "_model_module": "@jupyter-widgets/base",
            "_model_module_version": "1.2.0",
            "_model_name": "LayoutModel",
            "_view_count": null,
            "_view_module": "@jupyter-widgets/base",
            "_view_module_version": "1.2.0",
            "_view_name": "LayoutView",
            "align_content": null,
            "align_items": null,
            "align_self": null,
            "border": null,
            "bottom": null,
            "display": null,
            "flex": null,
            "flex_flow": null,
            "grid_area": null,
            "grid_auto_columns": null,
            "grid_auto_flow": null,
            "grid_auto_rows": null,
            "grid_column": null,
            "grid_gap": null,
            "grid_row": null,
            "grid_template_areas": null,
            "grid_template_columns": null,
            "grid_template_rows": null,
            "height": null,
            "justify_content": null,
            "justify_items": null,
            "left": null,
            "margin": null,
            "max_height": null,
            "max_width": null,
            "min_height": null,
            "min_width": null,
            "object_fit": null,
            "object_position": null,
            "order": null,
            "overflow": null,
            "overflow_x": null,
            "overflow_y": null,
            "padding": null,
            "right": null,
            "top": null,
            "visibility": null,
            "width": null
          }
        },
        "e50f045a77624e67ae8d4d2703e7d020": {
          "model_module": "@jupyter-widgets/base",
          "model_name": "LayoutModel",
          "model_module_version": "1.2.0",
          "state": {
            "_model_module": "@jupyter-widgets/base",
            "_model_module_version": "1.2.0",
            "_model_name": "LayoutModel",
            "_view_count": null,
            "_view_module": "@jupyter-widgets/base",
            "_view_module_version": "1.2.0",
            "_view_name": "LayoutView",
            "align_content": null,
            "align_items": null,
            "align_self": null,
            "border": null,
            "bottom": null,
            "display": null,
            "flex": null,
            "flex_flow": null,
            "grid_area": null,
            "grid_auto_columns": null,
            "grid_auto_flow": null,
            "grid_auto_rows": null,
            "grid_column": null,
            "grid_gap": null,
            "grid_row": null,
            "grid_template_areas": null,
            "grid_template_columns": null,
            "grid_template_rows": null,
            "height": null,
            "justify_content": null,
            "justify_items": null,
            "left": null,
            "margin": null,
            "max_height": null,
            "max_width": null,
            "min_height": null,
            "min_width": null,
            "object_fit": null,
            "object_position": null,
            "order": null,
            "overflow": null,
            "overflow_x": null,
            "overflow_y": null,
            "padding": null,
            "right": null,
            "top": null,
            "visibility": null,
            "width": null
          }
        },
        "0e1fcaf52f1e49f7bbe3b7d0f2cf130e": {
          "model_module": "@jupyter-widgets/controls",
          "model_name": "DescriptionStyleModel",
          "model_module_version": "1.5.0",
          "state": {
            "_model_module": "@jupyter-widgets/controls",
            "_model_module_version": "1.5.0",
            "_model_name": "DescriptionStyleModel",
            "_view_count": null,
            "_view_module": "@jupyter-widgets/base",
            "_view_module_version": "1.2.0",
            "_view_name": "StyleView",
            "description_width": ""
          }
        },
        "e74ba5a9152a4ce7842f4f90a0826b98": {
          "model_module": "@jupyter-widgets/base",
          "model_name": "LayoutModel",
          "model_module_version": "1.2.0",
          "state": {
            "_model_module": "@jupyter-widgets/base",
            "_model_module_version": "1.2.0",
            "_model_name": "LayoutModel",
            "_view_count": null,
            "_view_module": "@jupyter-widgets/base",
            "_view_module_version": "1.2.0",
            "_view_name": "LayoutView",
            "align_content": null,
            "align_items": null,
            "align_self": null,
            "border": null,
            "bottom": null,
            "display": null,
            "flex": null,
            "flex_flow": null,
            "grid_area": null,
            "grid_auto_columns": null,
            "grid_auto_flow": null,
            "grid_auto_rows": null,
            "grid_column": null,
            "grid_gap": null,
            "grid_row": null,
            "grid_template_areas": null,
            "grid_template_columns": null,
            "grid_template_rows": null,
            "height": null,
            "justify_content": null,
            "justify_items": null,
            "left": null,
            "margin": null,
            "max_height": null,
            "max_width": null,
            "min_height": null,
            "min_width": null,
            "object_fit": null,
            "object_position": null,
            "order": null,
            "overflow": null,
            "overflow_x": null,
            "overflow_y": null,
            "padding": null,
            "right": null,
            "top": null,
            "visibility": null,
            "width": null
          }
        },
        "be749396187d42bdb0a42920163568d0": {
          "model_module": "@jupyter-widgets/controls",
          "model_name": "ProgressStyleModel",
          "model_module_version": "1.5.0",
          "state": {
            "_model_module": "@jupyter-widgets/controls",
            "_model_module_version": "1.5.0",
            "_model_name": "ProgressStyleModel",
            "_view_count": null,
            "_view_module": "@jupyter-widgets/base",
            "_view_module_version": "1.2.0",
            "_view_name": "StyleView",
            "bar_color": null,
            "description_width": ""
          }
        },
        "ae66cd12ca344c72aaf287bfac13ab3c": {
          "model_module": "@jupyter-widgets/base",
          "model_name": "LayoutModel",
          "model_module_version": "1.2.0",
          "state": {
            "_model_module": "@jupyter-widgets/base",
            "_model_module_version": "1.2.0",
            "_model_name": "LayoutModel",
            "_view_count": null,
            "_view_module": "@jupyter-widgets/base",
            "_view_module_version": "1.2.0",
            "_view_name": "LayoutView",
            "align_content": null,
            "align_items": null,
            "align_self": null,
            "border": null,
            "bottom": null,
            "display": null,
            "flex": null,
            "flex_flow": null,
            "grid_area": null,
            "grid_auto_columns": null,
            "grid_auto_flow": null,
            "grid_auto_rows": null,
            "grid_column": null,
            "grid_gap": null,
            "grid_row": null,
            "grid_template_areas": null,
            "grid_template_columns": null,
            "grid_template_rows": null,
            "height": null,
            "justify_content": null,
            "justify_items": null,
            "left": null,
            "margin": null,
            "max_height": null,
            "max_width": null,
            "min_height": null,
            "min_width": null,
            "object_fit": null,
            "object_position": null,
            "order": null,
            "overflow": null,
            "overflow_x": null,
            "overflow_y": null,
            "padding": null,
            "right": null,
            "top": null,
            "visibility": null,
            "width": null
          }
        },
        "090b9aa3e0fe438b99bafb7023558ebd": {
          "model_module": "@jupyter-widgets/controls",
          "model_name": "DescriptionStyleModel",
          "model_module_version": "1.5.0",
          "state": {
            "_model_module": "@jupyter-widgets/controls",
            "_model_module_version": "1.5.0",
            "_model_name": "DescriptionStyleModel",
            "_view_count": null,
            "_view_module": "@jupyter-widgets/base",
            "_view_module_version": "1.2.0",
            "_view_name": "StyleView",
            "description_width": ""
          }
        },
        "8a69b86e497d411e8a2f8edd17b13b6d": {
          "model_module": "@jupyter-widgets/controls",
          "model_name": "HBoxModel",
          "model_module_version": "1.5.0",
          "state": {
            "_dom_classes": [],
            "_model_module": "@jupyter-widgets/controls",
            "_model_module_version": "1.5.0",
            "_model_name": "HBoxModel",
            "_view_count": null,
            "_view_module": "@jupyter-widgets/controls",
            "_view_module_version": "1.5.0",
            "_view_name": "HBoxView",
            "box_style": "",
            "children": [
              "IPY_MODEL_d86e6d8768e94fc8a58fd4fdf5b1e134",
              "IPY_MODEL_0b2cef88f0aa4c9dbd0db453aaca712b",
              "IPY_MODEL_d2923bca3d324109b3e5ba2f15f9854b"
            ],
            "layout": "IPY_MODEL_902deceb49ee44308b2fb811130599d4"
          }
        },
        "d86e6d8768e94fc8a58fd4fdf5b1e134": {
          "model_module": "@jupyter-widgets/controls",
          "model_name": "HTMLModel",
          "model_module_version": "1.5.0",
          "state": {
            "_dom_classes": [],
            "_model_module": "@jupyter-widgets/controls",
            "_model_module_version": "1.5.0",
            "_model_name": "HTMLModel",
            "_view_count": null,
            "_view_module": "@jupyter-widgets/controls",
            "_view_module_version": "1.5.0",
            "_view_name": "HTMLView",
            "description": "",
            "description_tooltip": null,
            "layout": "IPY_MODEL_2e18d80247bc4dc494dc5a276afada4e",
            "placeholder": "​",
            "style": "IPY_MODEL_b66b8b70088e483d981c5f3b0d02e34d",
            "value": "README.md: 100%"
          }
        },
        "0b2cef88f0aa4c9dbd0db453aaca712b": {
          "model_module": "@jupyter-widgets/controls",
          "model_name": "FloatProgressModel",
          "model_module_version": "1.5.0",
          "state": {
            "_dom_classes": [],
            "_model_module": "@jupyter-widgets/controls",
            "_model_module_version": "1.5.0",
            "_model_name": "FloatProgressModel",
            "_view_count": null,
            "_view_module": "@jupyter-widgets/controls",
            "_view_module_version": "1.5.0",
            "_view_name": "ProgressView",
            "bar_style": "success",
            "description": "",
            "description_tooltip": null,
            "layout": "IPY_MODEL_5f763cf259134a3da369ac0e4e49d8e0",
            "max": 5174,
            "min": 0,
            "orientation": "horizontal",
            "style": "IPY_MODEL_8f7f2f221cb84c6096de31785b6c3e67",
            "value": 5174
          }
        },
        "d2923bca3d324109b3e5ba2f15f9854b": {
          "model_module": "@jupyter-widgets/controls",
          "model_name": "HTMLModel",
          "model_module_version": "1.5.0",
          "state": {
            "_dom_classes": [],
            "_model_module": "@jupyter-widgets/controls",
            "_model_module_version": "1.5.0",
            "_model_name": "HTMLModel",
            "_view_count": null,
            "_view_module": "@jupyter-widgets/controls",
            "_view_module_version": "1.5.0",
            "_view_name": "HTMLView",
            "description": "",
            "description_tooltip": null,
            "layout": "IPY_MODEL_3eef9c936ff64df3958c36d77ea2e853",
            "placeholder": "​",
            "style": "IPY_MODEL_0f2e0fa3c18d440d88c1c54721ff732d",
            "value": " 5.17k/5.17k [00:00&lt;00:00, 320kB/s]"
          }
        },
        "902deceb49ee44308b2fb811130599d4": {
          "model_module": "@jupyter-widgets/base",
          "model_name": "LayoutModel",
          "model_module_version": "1.2.0",
          "state": {
            "_model_module": "@jupyter-widgets/base",
            "_model_module_version": "1.2.0",
            "_model_name": "LayoutModel",
            "_view_count": null,
            "_view_module": "@jupyter-widgets/base",
            "_view_module_version": "1.2.0",
            "_view_name": "LayoutView",
            "align_content": null,
            "align_items": null,
            "align_self": null,
            "border": null,
            "bottom": null,
            "display": null,
            "flex": null,
            "flex_flow": null,
            "grid_area": null,
            "grid_auto_columns": null,
            "grid_auto_flow": null,
            "grid_auto_rows": null,
            "grid_column": null,
            "grid_gap": null,
            "grid_row": null,
            "grid_template_areas": null,
            "grid_template_columns": null,
            "grid_template_rows": null,
            "height": null,
            "justify_content": null,
            "justify_items": null,
            "left": null,
            "margin": null,
            "max_height": null,
            "max_width": null,
            "min_height": null,
            "min_width": null,
            "object_fit": null,
            "object_position": null,
            "order": null,
            "overflow": null,
            "overflow_x": null,
            "overflow_y": null,
            "padding": null,
            "right": null,
            "top": null,
            "visibility": null,
            "width": null
          }
        },
        "2e18d80247bc4dc494dc5a276afada4e": {
          "model_module": "@jupyter-widgets/base",
          "model_name": "LayoutModel",
          "model_module_version": "1.2.0",
          "state": {
            "_model_module": "@jupyter-widgets/base",
            "_model_module_version": "1.2.0",
            "_model_name": "LayoutModel",
            "_view_count": null,
            "_view_module": "@jupyter-widgets/base",
            "_view_module_version": "1.2.0",
            "_view_name": "LayoutView",
            "align_content": null,
            "align_items": null,
            "align_self": null,
            "border": null,
            "bottom": null,
            "display": null,
            "flex": null,
            "flex_flow": null,
            "grid_area": null,
            "grid_auto_columns": null,
            "grid_auto_flow": null,
            "grid_auto_rows": null,
            "grid_column": null,
            "grid_gap": null,
            "grid_row": null,
            "grid_template_areas": null,
            "grid_template_columns": null,
            "grid_template_rows": null,
            "height": null,
            "justify_content": null,
            "justify_items": null,
            "left": null,
            "margin": null,
            "max_height": null,
            "max_width": null,
            "min_height": null,
            "min_width": null,
            "object_fit": null,
            "object_position": null,
            "order": null,
            "overflow": null,
            "overflow_x": null,
            "overflow_y": null,
            "padding": null,
            "right": null,
            "top": null,
            "visibility": null,
            "width": null
          }
        },
        "b66b8b70088e483d981c5f3b0d02e34d": {
          "model_module": "@jupyter-widgets/controls",
          "model_name": "DescriptionStyleModel",
          "model_module_version": "1.5.0",
          "state": {
            "_model_module": "@jupyter-widgets/controls",
            "_model_module_version": "1.5.0",
            "_model_name": "DescriptionStyleModel",
            "_view_count": null,
            "_view_module": "@jupyter-widgets/base",
            "_view_module_version": "1.2.0",
            "_view_name": "StyleView",
            "description_width": ""
          }
        },
        "5f763cf259134a3da369ac0e4e49d8e0": {
          "model_module": "@jupyter-widgets/base",
          "model_name": "LayoutModel",
          "model_module_version": "1.2.0",
          "state": {
            "_model_module": "@jupyter-widgets/base",
            "_model_module_version": "1.2.0",
            "_model_name": "LayoutModel",
            "_view_count": null,
            "_view_module": "@jupyter-widgets/base",
            "_view_module_version": "1.2.0",
            "_view_name": "LayoutView",
            "align_content": null,
            "align_items": null,
            "align_self": null,
            "border": null,
            "bottom": null,
            "display": null,
            "flex": null,
            "flex_flow": null,
            "grid_area": null,
            "grid_auto_columns": null,
            "grid_auto_flow": null,
            "grid_auto_rows": null,
            "grid_column": null,
            "grid_gap": null,
            "grid_row": null,
            "grid_template_areas": null,
            "grid_template_columns": null,
            "grid_template_rows": null,
            "height": null,
            "justify_content": null,
            "justify_items": null,
            "left": null,
            "margin": null,
            "max_height": null,
            "max_width": null,
            "min_height": null,
            "min_width": null,
            "object_fit": null,
            "object_position": null,
            "order": null,
            "overflow": null,
            "overflow_x": null,
            "overflow_y": null,
            "padding": null,
            "right": null,
            "top": null,
            "visibility": null,
            "width": null
          }
        },
        "8f7f2f221cb84c6096de31785b6c3e67": {
          "model_module": "@jupyter-widgets/controls",
          "model_name": "ProgressStyleModel",
          "model_module_version": "1.5.0",
          "state": {
            "_model_module": "@jupyter-widgets/controls",
            "_model_module_version": "1.5.0",
            "_model_name": "ProgressStyleModel",
            "_view_count": null,
            "_view_module": "@jupyter-widgets/base",
            "_view_module_version": "1.2.0",
            "_view_name": "StyleView",
            "bar_color": null,
            "description_width": ""
          }
        },
        "3eef9c936ff64df3958c36d77ea2e853": {
          "model_module": "@jupyter-widgets/base",
          "model_name": "LayoutModel",
          "model_module_version": "1.2.0",
          "state": {
            "_model_module": "@jupyter-widgets/base",
            "_model_module_version": "1.2.0",
            "_model_name": "LayoutModel",
            "_view_count": null,
            "_view_module": "@jupyter-widgets/base",
            "_view_module_version": "1.2.0",
            "_view_name": "LayoutView",
            "align_content": null,
            "align_items": null,
            "align_self": null,
            "border": null,
            "bottom": null,
            "display": null,
            "flex": null,
            "flex_flow": null,
            "grid_area": null,
            "grid_auto_columns": null,
            "grid_auto_flow": null,
            "grid_auto_rows": null,
            "grid_column": null,
            "grid_gap": null,
            "grid_row": null,
            "grid_template_areas": null,
            "grid_template_columns": null,
            "grid_template_rows": null,
            "height": null,
            "justify_content": null,
            "justify_items": null,
            "left": null,
            "margin": null,
            "max_height": null,
            "max_width": null,
            "min_height": null,
            "min_width": null,
            "object_fit": null,
            "object_position": null,
            "order": null,
            "overflow": null,
            "overflow_x": null,
            "overflow_y": null,
            "padding": null,
            "right": null,
            "top": null,
            "visibility": null,
            "width": null
          }
        },
        "0f2e0fa3c18d440d88c1c54721ff732d": {
          "model_module": "@jupyter-widgets/controls",
          "model_name": "DescriptionStyleModel",
          "model_module_version": "1.5.0",
          "state": {
            "_model_module": "@jupyter-widgets/controls",
            "_model_module_version": "1.5.0",
            "_model_name": "DescriptionStyleModel",
            "_view_count": null,
            "_view_module": "@jupyter-widgets/base",
            "_view_module_version": "1.2.0",
            "_view_name": "StyleView",
            "description_width": ""
          }
        },
        "67727e4d695945a0b9a061447d4fd49d": {
          "model_module": "@jupyter-widgets/controls",
          "model_name": "HBoxModel",
          "model_module_version": "1.5.0",
          "state": {
            "_dom_classes": [],
            "_model_module": "@jupyter-widgets/controls",
            "_model_module_version": "1.5.0",
            "_model_name": "HBoxModel",
            "_view_count": null,
            "_view_module": "@jupyter-widgets/controls",
            "_view_module_version": "1.5.0",
            "_view_name": "HBoxView",
            "box_style": "",
            "children": [
              "IPY_MODEL_76c7e9f8593a4f62a4cf6a335e38c751",
              "IPY_MODEL_0d22e60675e249baba4cc619fae23330",
              "IPY_MODEL_cce282f7228b461cbcb31a6d570f7ea3"
            ],
            "layout": "IPY_MODEL_82b0d46a72d941e7ba6bc292576ca404"
          }
        },
        "76c7e9f8593a4f62a4cf6a335e38c751": {
          "model_module": "@jupyter-widgets/controls",
          "model_name": "HTMLModel",
          "model_module_version": "1.5.0",
          "state": {
            "_dom_classes": [],
            "_model_module": "@jupyter-widgets/controls",
            "_model_module_version": "1.5.0",
            "_model_name": "HTMLModel",
            "_view_count": null,
            "_view_module": "@jupyter-widgets/controls",
            "_view_module_version": "1.5.0",
            "_view_name": "HTMLView",
            "description": "",
            "description_tooltip": null,
            "layout": "IPY_MODEL_5ff2472ba82943d79b7c37b2fa97e572",
            "placeholder": "​",
            "style": "IPY_MODEL_a172dd0b32974091999a53fccb925860",
            "value": "model.safetensors: 100%"
          }
        },
        "0d22e60675e249baba4cc619fae23330": {
          "model_module": "@jupyter-widgets/controls",
          "model_name": "FloatProgressModel",
          "model_module_version": "1.5.0",
          "state": {
            "_dom_classes": [],
            "_model_module": "@jupyter-widgets/controls",
            "_model_module_version": "1.5.0",
            "_model_name": "FloatProgressModel",
            "_view_count": null,
            "_view_module": "@jupyter-widgets/controls",
            "_view_module_version": "1.5.0",
            "_view_name": "ProgressView",
            "bar_style": "success",
            "description": "",
            "description_tooltip": null,
            "layout": "IPY_MODEL_97e60fe9795c4fe39e30a52d9653e55c",
            "max": 462537600,
            "min": 0,
            "orientation": "horizontal",
            "style": "IPY_MODEL_ff3d1ae934884bbcb2d99e5ce1842a9b",
            "value": 462537600
          }
        },
        "cce282f7228b461cbcb31a6d570f7ea3": {
          "model_module": "@jupyter-widgets/controls",
          "model_name": "HTMLModel",
          "model_module_version": "1.5.0",
          "state": {
            "_dom_classes": [],
            "_model_module": "@jupyter-widgets/controls",
            "_model_module_version": "1.5.0",
            "_model_name": "HTMLModel",
            "_view_count": null,
            "_view_module": "@jupyter-widgets/controls",
            "_view_module_version": "1.5.0",
            "_view_name": "HTMLView",
            "description": "",
            "description_tooltip": null,
            "layout": "IPY_MODEL_53ac85c202da418eb09a982903552936",
            "placeholder": "​",
            "style": "IPY_MODEL_1a34ba12a8d44433bdc334641adba2c7",
            "value": " 463M/463M [00:42&lt;00:00, 20.8MB/s]"
          }
        },
        "82b0d46a72d941e7ba6bc292576ca404": {
          "model_module": "@jupyter-widgets/base",
          "model_name": "LayoutModel",
          "model_module_version": "1.2.0",
          "state": {
            "_model_module": "@jupyter-widgets/base",
            "_model_module_version": "1.2.0",
            "_model_name": "LayoutModel",
            "_view_count": null,
            "_view_module": "@jupyter-widgets/base",
            "_view_module_version": "1.2.0",
            "_view_name": "LayoutView",
            "align_content": null,
            "align_items": null,
            "align_self": null,
            "border": null,
            "bottom": null,
            "display": null,
            "flex": null,
            "flex_flow": null,
            "grid_area": null,
            "grid_auto_columns": null,
            "grid_auto_flow": null,
            "grid_auto_rows": null,
            "grid_column": null,
            "grid_gap": null,
            "grid_row": null,
            "grid_template_areas": null,
            "grid_template_columns": null,
            "grid_template_rows": null,
            "height": null,
            "justify_content": null,
            "justify_items": null,
            "left": null,
            "margin": null,
            "max_height": null,
            "max_width": null,
            "min_height": null,
            "min_width": null,
            "object_fit": null,
            "object_position": null,
            "order": null,
            "overflow": null,
            "overflow_x": null,
            "overflow_y": null,
            "padding": null,
            "right": null,
            "top": null,
            "visibility": null,
            "width": null
          }
        },
        "5ff2472ba82943d79b7c37b2fa97e572": {
          "model_module": "@jupyter-widgets/base",
          "model_name": "LayoutModel",
          "model_module_version": "1.2.0",
          "state": {
            "_model_module": "@jupyter-widgets/base",
            "_model_module_version": "1.2.0",
            "_model_name": "LayoutModel",
            "_view_count": null,
            "_view_module": "@jupyter-widgets/base",
            "_view_module_version": "1.2.0",
            "_view_name": "LayoutView",
            "align_content": null,
            "align_items": null,
            "align_self": null,
            "border": null,
            "bottom": null,
            "display": null,
            "flex": null,
            "flex_flow": null,
            "grid_area": null,
            "grid_auto_columns": null,
            "grid_auto_flow": null,
            "grid_auto_rows": null,
            "grid_column": null,
            "grid_gap": null,
            "grid_row": null,
            "grid_template_areas": null,
            "grid_template_columns": null,
            "grid_template_rows": null,
            "height": null,
            "justify_content": null,
            "justify_items": null,
            "left": null,
            "margin": null,
            "max_height": null,
            "max_width": null,
            "min_height": null,
            "min_width": null,
            "object_fit": null,
            "object_position": null,
            "order": null,
            "overflow": null,
            "overflow_x": null,
            "overflow_y": null,
            "padding": null,
            "right": null,
            "top": null,
            "visibility": null,
            "width": null
          }
        },
        "a172dd0b32974091999a53fccb925860": {
          "model_module": "@jupyter-widgets/controls",
          "model_name": "DescriptionStyleModel",
          "model_module_version": "1.5.0",
          "state": {
            "_model_module": "@jupyter-widgets/controls",
            "_model_module_version": "1.5.0",
            "_model_name": "DescriptionStyleModel",
            "_view_count": null,
            "_view_module": "@jupyter-widgets/base",
            "_view_module_version": "1.2.0",
            "_view_name": "StyleView",
            "description_width": ""
          }
        },
        "97e60fe9795c4fe39e30a52d9653e55c": {
          "model_module": "@jupyter-widgets/base",
          "model_name": "LayoutModel",
          "model_module_version": "1.2.0",
          "state": {
            "_model_module": "@jupyter-widgets/base",
            "_model_module_version": "1.2.0",
            "_model_name": "LayoutModel",
            "_view_count": null,
            "_view_module": "@jupyter-widgets/base",
            "_view_module_version": "1.2.0",
            "_view_name": "LayoutView",
            "align_content": null,
            "align_items": null,
            "align_self": null,
            "border": null,
            "bottom": null,
            "display": null,
            "flex": null,
            "flex_flow": null,
            "grid_area": null,
            "grid_auto_columns": null,
            "grid_auto_flow": null,
            "grid_auto_rows": null,
            "grid_column": null,
            "grid_gap": null,
            "grid_row": null,
            "grid_template_areas": null,
            "grid_template_columns": null,
            "grid_template_rows": null,
            "height": null,
            "justify_content": null,
            "justify_items": null,
            "left": null,
            "margin": null,
            "max_height": null,
            "max_width": null,
            "min_height": null,
            "min_width": null,
            "object_fit": null,
            "object_position": null,
            "order": null,
            "overflow": null,
            "overflow_x": null,
            "overflow_y": null,
            "padding": null,
            "right": null,
            "top": null,
            "visibility": null,
            "width": null
          }
        },
        "ff3d1ae934884bbcb2d99e5ce1842a9b": {
          "model_module": "@jupyter-widgets/controls",
          "model_name": "ProgressStyleModel",
          "model_module_version": "1.5.0",
          "state": {
            "_model_module": "@jupyter-widgets/controls",
            "_model_module_version": "1.5.0",
            "_model_name": "ProgressStyleModel",
            "_view_count": null,
            "_view_module": "@jupyter-widgets/base",
            "_view_module_version": "1.2.0",
            "_view_name": "StyleView",
            "bar_color": null,
            "description_width": ""
          }
        },
        "53ac85c202da418eb09a982903552936": {
          "model_module": "@jupyter-widgets/base",
          "model_name": "LayoutModel",
          "model_module_version": "1.2.0",
          "state": {
            "_model_module": "@jupyter-widgets/base",
            "_model_module_version": "1.2.0",
            "_model_name": "LayoutModel",
            "_view_count": null,
            "_view_module": "@jupyter-widgets/base",
            "_view_module_version": "1.2.0",
            "_view_name": "LayoutView",
            "align_content": null,
            "align_items": null,
            "align_self": null,
            "border": null,
            "bottom": null,
            "display": null,
            "flex": null,
            "flex_flow": null,
            "grid_area": null,
            "grid_auto_columns": null,
            "grid_auto_flow": null,
            "grid_auto_rows": null,
            "grid_column": null,
            "grid_gap": null,
            "grid_row": null,
            "grid_template_areas": null,
            "grid_template_columns": null,
            "grid_template_rows": null,
            "height": null,
            "justify_content": null,
            "justify_items": null,
            "left": null,
            "margin": null,
            "max_height": null,
            "max_width": null,
            "min_height": null,
            "min_width": null,
            "object_fit": null,
            "object_position": null,
            "order": null,
            "overflow": null,
            "overflow_x": null,
            "overflow_y": null,
            "padding": null,
            "right": null,
            "top": null,
            "visibility": null,
            "width": null
          }
        },
        "1a34ba12a8d44433bdc334641adba2c7": {
          "model_module": "@jupyter-widgets/controls",
          "model_name": "DescriptionStyleModel",
          "model_module_version": "1.5.0",
          "state": {
            "_model_module": "@jupyter-widgets/controls",
            "_model_module_version": "1.5.0",
            "_model_name": "DescriptionStyleModel",
            "_view_count": null,
            "_view_module": "@jupyter-widgets/base",
            "_view_module_version": "1.2.0",
            "_view_name": "StyleView",
            "description_width": ""
          }
        },
        "716db649b81d4adcb3ab7505aeef1c19": {
          "model_module": "@jupyter-widgets/controls",
          "model_name": "HBoxModel",
          "model_module_version": "1.5.0",
          "state": {
            "_dom_classes": [],
            "_model_module": "@jupyter-widgets/controls",
            "_model_module_version": "1.5.0",
            "_model_name": "HBoxModel",
            "_view_count": null,
            "_view_module": "@jupyter-widgets/controls",
            "_view_module_version": "1.5.0",
            "_view_name": "HBoxView",
            "box_style": "",
            "children": [
              "IPY_MODEL_51df984226014ff8b62ff08ca77d1c87",
              "IPY_MODEL_c655c69098d347f98754af8eb01be291",
              "IPY_MODEL_4b1862eea0eb41c29ebfd66cb74335a4"
            ],
            "layout": "IPY_MODEL_0496d567a49f476693cf4e0aab13c61b"
          }
        },
        "51df984226014ff8b62ff08ca77d1c87": {
          "model_module": "@jupyter-widgets/controls",
          "model_name": "HTMLModel",
          "model_module_version": "1.5.0",
          "state": {
            "_dom_classes": [],
            "_model_module": "@jupyter-widgets/controls",
            "_model_module_version": "1.5.0",
            "_model_name": "HTMLModel",
            "_view_count": null,
            "_view_module": "@jupyter-widgets/controls",
            "_view_module_version": "1.5.0",
            "_view_name": "HTMLView",
            "description": "",
            "description_tooltip": null,
            "layout": "IPY_MODEL_5ba7b194db084d25a3e12a1c59aefe47",
            "placeholder": "​",
            "style": "IPY_MODEL_0d8f0142525449ba987419cb4325d317",
            "value": "README.md: 100%"
          }
        },
        "c655c69098d347f98754af8eb01be291": {
          "model_module": "@jupyter-widgets/controls",
          "model_name": "FloatProgressModel",
          "model_module_version": "1.5.0",
          "state": {
            "_dom_classes": [],
            "_model_module": "@jupyter-widgets/controls",
            "_model_module_version": "1.5.0",
            "_model_name": "FloatProgressModel",
            "_view_count": null,
            "_view_module": "@jupyter-widgets/controls",
            "_view_module_version": "1.5.0",
            "_view_name": "ProgressView",
            "bar_style": "success",
            "description": "",
            "description_tooltip": null,
            "layout": "IPY_MODEL_78e129e4df7740d3b39c05f9fa94ce71",
            "max": 5174,
            "min": 0,
            "orientation": "horizontal",
            "style": "IPY_MODEL_c99940809e4f4035805d2dc8cc2fe1d0",
            "value": 5174
          }
        },
        "4b1862eea0eb41c29ebfd66cb74335a4": {
          "model_module": "@jupyter-widgets/controls",
          "model_name": "HTMLModel",
          "model_module_version": "1.5.0",
          "state": {
            "_dom_classes": [],
            "_model_module": "@jupyter-widgets/controls",
            "_model_module_version": "1.5.0",
            "_model_name": "HTMLModel",
            "_view_count": null,
            "_view_module": "@jupyter-widgets/controls",
            "_view_module_version": "1.5.0",
            "_view_name": "HTMLView",
            "description": "",
            "description_tooltip": null,
            "layout": "IPY_MODEL_042639a6863148d599f538094754c5ee",
            "placeholder": "​",
            "style": "IPY_MODEL_da47fa85fc0c4dc5bc55a567ba965282",
            "value": " 5.17k/5.17k [00:00&lt;00:00, 416kB/s]"
          }
        },
        "0496d567a49f476693cf4e0aab13c61b": {
          "model_module": "@jupyter-widgets/base",
          "model_name": "LayoutModel",
          "model_module_version": "1.2.0",
          "state": {
            "_model_module": "@jupyter-widgets/base",
            "_model_module_version": "1.2.0",
            "_model_name": "LayoutModel",
            "_view_count": null,
            "_view_module": "@jupyter-widgets/base",
            "_view_module_version": "1.2.0",
            "_view_name": "LayoutView",
            "align_content": null,
            "align_items": null,
            "align_self": null,
            "border": null,
            "bottom": null,
            "display": null,
            "flex": null,
            "flex_flow": null,
            "grid_area": null,
            "grid_auto_columns": null,
            "grid_auto_flow": null,
            "grid_auto_rows": null,
            "grid_column": null,
            "grid_gap": null,
            "grid_row": null,
            "grid_template_areas": null,
            "grid_template_columns": null,
            "grid_template_rows": null,
            "height": null,
            "justify_content": null,
            "justify_items": null,
            "left": null,
            "margin": null,
            "max_height": null,
            "max_width": null,
            "min_height": null,
            "min_width": null,
            "object_fit": null,
            "object_position": null,
            "order": null,
            "overflow": null,
            "overflow_x": null,
            "overflow_y": null,
            "padding": null,
            "right": null,
            "top": null,
            "visibility": null,
            "width": null
          }
        },
        "5ba7b194db084d25a3e12a1c59aefe47": {
          "model_module": "@jupyter-widgets/base",
          "model_name": "LayoutModel",
          "model_module_version": "1.2.0",
          "state": {
            "_model_module": "@jupyter-widgets/base",
            "_model_module_version": "1.2.0",
            "_model_name": "LayoutModel",
            "_view_count": null,
            "_view_module": "@jupyter-widgets/base",
            "_view_module_version": "1.2.0",
            "_view_name": "LayoutView",
            "align_content": null,
            "align_items": null,
            "align_self": null,
            "border": null,
            "bottom": null,
            "display": null,
            "flex": null,
            "flex_flow": null,
            "grid_area": null,
            "grid_auto_columns": null,
            "grid_auto_flow": null,
            "grid_auto_rows": null,
            "grid_column": null,
            "grid_gap": null,
            "grid_row": null,
            "grid_template_areas": null,
            "grid_template_columns": null,
            "grid_template_rows": null,
            "height": null,
            "justify_content": null,
            "justify_items": null,
            "left": null,
            "margin": null,
            "max_height": null,
            "max_width": null,
            "min_height": null,
            "min_width": null,
            "object_fit": null,
            "object_position": null,
            "order": null,
            "overflow": null,
            "overflow_x": null,
            "overflow_y": null,
            "padding": null,
            "right": null,
            "top": null,
            "visibility": null,
            "width": null
          }
        },
        "0d8f0142525449ba987419cb4325d317": {
          "model_module": "@jupyter-widgets/controls",
          "model_name": "DescriptionStyleModel",
          "model_module_version": "1.5.0",
          "state": {
            "_model_module": "@jupyter-widgets/controls",
            "_model_module_version": "1.5.0",
            "_model_name": "DescriptionStyleModel",
            "_view_count": null,
            "_view_module": "@jupyter-widgets/base",
            "_view_module_version": "1.2.0",
            "_view_name": "StyleView",
            "description_width": ""
          }
        },
        "78e129e4df7740d3b39c05f9fa94ce71": {
          "model_module": "@jupyter-widgets/base",
          "model_name": "LayoutModel",
          "model_module_version": "1.2.0",
          "state": {
            "_model_module": "@jupyter-widgets/base",
            "_model_module_version": "1.2.0",
            "_model_name": "LayoutModel",
            "_view_count": null,
            "_view_module": "@jupyter-widgets/base",
            "_view_module_version": "1.2.0",
            "_view_name": "LayoutView",
            "align_content": null,
            "align_items": null,
            "align_self": null,
            "border": null,
            "bottom": null,
            "display": null,
            "flex": null,
            "flex_flow": null,
            "grid_area": null,
            "grid_auto_columns": null,
            "grid_auto_flow": null,
            "grid_auto_rows": null,
            "grid_column": null,
            "grid_gap": null,
            "grid_row": null,
            "grid_template_areas": null,
            "grid_template_columns": null,
            "grid_template_rows": null,
            "height": null,
            "justify_content": null,
            "justify_items": null,
            "left": null,
            "margin": null,
            "max_height": null,
            "max_width": null,
            "min_height": null,
            "min_width": null,
            "object_fit": null,
            "object_position": null,
            "order": null,
            "overflow": null,
            "overflow_x": null,
            "overflow_y": null,
            "padding": null,
            "right": null,
            "top": null,
            "visibility": null,
            "width": null
          }
        },
        "c99940809e4f4035805d2dc8cc2fe1d0": {
          "model_module": "@jupyter-widgets/controls",
          "model_name": "ProgressStyleModel",
          "model_module_version": "1.5.0",
          "state": {
            "_model_module": "@jupyter-widgets/controls",
            "_model_module_version": "1.5.0",
            "_model_name": "ProgressStyleModel",
            "_view_count": null,
            "_view_module": "@jupyter-widgets/base",
            "_view_module_version": "1.2.0",
            "_view_name": "StyleView",
            "bar_color": null,
            "description_width": ""
          }
        },
        "042639a6863148d599f538094754c5ee": {
          "model_module": "@jupyter-widgets/base",
          "model_name": "LayoutModel",
          "model_module_version": "1.2.0",
          "state": {
            "_model_module": "@jupyter-widgets/base",
            "_model_module_version": "1.2.0",
            "_model_name": "LayoutModel",
            "_view_count": null,
            "_view_module": "@jupyter-widgets/base",
            "_view_module_version": "1.2.0",
            "_view_name": "LayoutView",
            "align_content": null,
            "align_items": null,
            "align_self": null,
            "border": null,
            "bottom": null,
            "display": null,
            "flex": null,
            "flex_flow": null,
            "grid_area": null,
            "grid_auto_columns": null,
            "grid_auto_flow": null,
            "grid_auto_rows": null,
            "grid_column": null,
            "grid_gap": null,
            "grid_row": null,
            "grid_template_areas": null,
            "grid_template_columns": null,
            "grid_template_rows": null,
            "height": null,
            "justify_content": null,
            "justify_items": null,
            "left": null,
            "margin": null,
            "max_height": null,
            "max_width": null,
            "min_height": null,
            "min_width": null,
            "object_fit": null,
            "object_position": null,
            "order": null,
            "overflow": null,
            "overflow_x": null,
            "overflow_y": null,
            "padding": null,
            "right": null,
            "top": null,
            "visibility": null,
            "width": null
          }
        },
        "da47fa85fc0c4dc5bc55a567ba965282": {
          "model_module": "@jupyter-widgets/controls",
          "model_name": "DescriptionStyleModel",
          "model_module_version": "1.5.0",
          "state": {
            "_model_module": "@jupyter-widgets/controls",
            "_model_module_version": "1.5.0",
            "_model_name": "DescriptionStyleModel",
            "_view_count": null,
            "_view_module": "@jupyter-widgets/base",
            "_view_module_version": "1.2.0",
            "_view_name": "StyleView",
            "description_width": ""
          }
        }
      }
    }
  },
  "cells": [
    {
      "cell_type": "markdown",
      "source": [
        "This is in a notebook format, because it seemed more convenient to use Collab Pro instead of a proper VM to train a model on a proper GPU. (It wasn't)"
      ],
      "metadata": {
        "id": "dLYJprXPhfRw"
      }
    },
    {
      "cell_type": "markdown",
      "source": [
        "# Finetuning"
      ],
      "metadata": {
        "id": "-COvvbS8DK7m"
      }
    },
    {
      "cell_type": "code",
      "execution_count": 1,
      "metadata": {
        "colab": {
          "base_uri": "https://localhost:8080/"
        },
        "id": "fcwclJNSYWSO",
        "outputId": "a17590c5-f694-4e32-e5c7-9600beab21dd"
      },
      "outputs": [
        {
          "output_type": "stream",
          "name": "stdout",
          "text": [
            "\u001b[?25l   \u001b[90m━━━━━━━━━━━━━━━━━━━━━━━━━━━━━━━━━━━━━━━━\u001b[0m \u001b[32m0.0/296.4 kB\u001b[0m \u001b[31m?\u001b[0m eta \u001b[36m-:--:--\u001b[0m\r\u001b[2K   \u001b[90m━━━━━━━━━━━━━━━━━━━━━━━━━━━━━━━━━━━━━━━━\u001b[0m \u001b[32m296.4/296.4 kB\u001b[0m \u001b[31m21.4 MB/s\u001b[0m eta \u001b[36m0:00:00\u001b[0m\n",
            "\u001b[?25h\u001b[?25l   \u001b[90m━━━━━━━━━━━━━━━━━━━━━━━━━━━━━━━━━━━━━━━━\u001b[0m \u001b[32m0.0/527.3 kB\u001b[0m \u001b[31m?\u001b[0m eta \u001b[36m-:--:--\u001b[0m\r\u001b[2K   \u001b[90m━━━━━━━━━━━━━━━━━━━━━━━━━━━━━━━━━━━━━━━━\u001b[0m \u001b[32m527.3/527.3 kB\u001b[0m \u001b[31m41.6 MB/s\u001b[0m eta \u001b[36m0:00:00\u001b[0m\n",
            "\u001b[2K   \u001b[90m━━━━━━━━━━━━━━━━━━━━━━━━━━━━━━━━━━━━━━━━\u001b[0m \u001b[32m116.3/116.3 kB\u001b[0m \u001b[31m11.3 MB/s\u001b[0m eta \u001b[36m0:00:00\u001b[0m\n",
            "\u001b[2K   \u001b[90m━━━━━━━━━━━━━━━━━━━━━━━━━━━━━━━━━━━━━━━━\u001b[0m \u001b[32m39.9/39.9 MB\u001b[0m \u001b[31m55.9 MB/s\u001b[0m eta \u001b[36m0:00:00\u001b[0m\n",
            "\u001b[2K   \u001b[90m━━━━━━━━━━━━━━━━━━━━━━━━━━━━━━━━━━━━━━━━\u001b[0m \u001b[32m134.8/134.8 kB\u001b[0m \u001b[31m13.0 MB/s\u001b[0m eta \u001b[36m0:00:00\u001b[0m\n",
            "\u001b[2K   \u001b[90m━━━━━━━━━━━━━━━━━━━━━━━━━━━━━━━━━━━━━━━━\u001b[0m \u001b[32m194.1/194.1 kB\u001b[0m \u001b[31m18.6 MB/s\u001b[0m eta \u001b[36m0:00:00\u001b[0m\n",
            "\u001b[?25h\u001b[31mERROR: pip's dependency resolver does not currently take into account all the packages that are installed. This behaviour is the source of the following dependency conflicts.\n",
            "cudf-cu12 24.4.1 requires pyarrow<15.0.0a0,>=14.0.1, but you have pyarrow 17.0.0 which is incompatible.\n",
            "ibis-framework 8.0.0 requires pyarrow<16,>=2, but you have pyarrow 17.0.0 which is incompatible.\u001b[0m\u001b[31m\n",
            "\u001b[0m"
          ]
        }
      ],
      "source": [
        "!pip install -q peft transformers datasets einops"
      ]
    },
    {
      "cell_type": "code",
      "source": [
        "import os\n",
        "\n",
        "from transformers import (\n",
        "    AutoModelForCausalLM,\n",
        "    AutoTokenizer,\n",
        "    get_linear_schedule_with_warmup\n",
        ")\n",
        "from peft import (\n",
        "    get_peft_model,\n",
        "    LoraConfig,\n",
        ")\n",
        "from tqdm import tqdm\n",
        "import torch"
      ],
      "metadata": {
        "id": "vyuDTemZYez5"
      },
      "execution_count": 41,
      "outputs": []
    },
    {
      "cell_type": "code",
      "source": [
        "model_name = \"Salesforce/codegen-350M-multi\"\n",
        "\n",
        "tokenizer = AutoTokenizer.from_pretrained(\n",
        "    model_name,\n",
        "    padding_side='left'\n",
        ")\n",
        "model = AutoModelForCausalLM.from_pretrained(model_name)\n",
        "if tokenizer.pad_token_id is None:\n",
        "    tokenizer.pad_token_id = tokenizer.eos_token_id"
      ],
      "metadata": {
        "id": "s71XhW7FYwjh"
      },
      "execution_count": 60,
      "outputs": []
    },
    {
      "cell_type": "code",
      "source": [
        "import json\n",
        "\n",
        "training_data = json.load(open(\"training_data.json\"))"
      ],
      "metadata": {
        "id": "eGgjrqm-atX8"
      },
      "execution_count": 8,
      "outputs": []
    },
    {
      "cell_type": "code",
      "source": [
        "training_data[0]"
      ],
      "metadata": {
        "colab": {
          "base_uri": "https://localhost:8080/"
        },
        "id": "V7wL2sOIawtv",
        "outputId": "51902ede-8370-42af-987e-ddf118848651"
      },
      "execution_count": 62,
      "outputs": [
        {
          "output_type": "execute_result",
          "data": {
            "text/plain": [
              "{'file_path': 'code_train/0x566164696D_mikroansible_TT.yml',\n",
              " 'full_code': '---\\n- hosts: TT\\n  user: mikroansible\\n  gather_facts: no  \\n  connection: local\\n  roles:\\n    - connection-check\\n    - web-proxy-disable\\n    - email-setup    \\n    - script-fw-check\\n    - services\\n    - scritp-route-distance-check\\n    - socks-disable\\n    - script-badblock-check\\n    - TT-WiFi-Setup\\n    - TT-set-dns-servers\\n',\n",
              " 'cursor_position': 205,\n",
              " 'code_before': '---\\n- hosts: TT\\n  user: mikroansible\\n  gather_facts: no  \\n  connection: local\\n  roles:\\n    - connection-check\\n    - web-proxy-disable\\n    - email-setup    \\n    - script-fw-check\\n    - services\\n    - scritp',\n",
              " 'code_after': '\\n    - socks-disable\\n    - script-badblock-check\\n    - TT-WiFi-Setup\\n    - TT-set-dns-servers\\n',\n",
              " 'expected_code': '-route-distance-check'}"
            ]
          },
          "metadata": {},
          "execution_count": 62
        }
      ]
    },
    {
      "cell_type": "code",
      "source": [
        "prompt_format = \"\"\"\n",
        "# Here's a yaml file to offer a completion for\n",
        "# Lines after the current one\n",
        "{text_after}\n",
        "# Lines before the current one\n",
        "{text_before}\n",
        "# Completion:\n",
        "\"\"\""
      ],
      "metadata": {
        "id": "Y6-EQZZ8axpJ"
      },
      "execution_count": 63,
      "outputs": []
    },
    {
      "cell_type": "code",
      "source": [
        "from typing import List\n",
        "from transformers import PreTrainedModel\n",
        "\n",
        "def generate_completion(\n",
        "        prefixes: List[str],\n",
        "        model: PreTrainedModel,\n",
        "        device: str = 'cuda',\n",
        "        max_generated_tokens: int = 64\n",
        "    ):\n",
        "    tokenized = tokenizer(prefixes, return_tensors='pt', padding=True)\n",
        "    tokenized = {k: v.to(device) for k, v in tokenized.items()}\n",
        "\n",
        "    output = model.generate(\n",
        "        **tokenized,\n",
        "        max_new_tokens=max_generated_tokens,\n",
        "        eos_token_id=tokenizer.eos_token_id\n",
        "    )\n",
        "    tokenized = {k: v.cpu() for k, v in tokenized.items()}\n",
        "\n",
        "    return tokenizer.batch_decode(output, skip_special_tokens=True)"
      ],
      "metadata": {
        "id": "qo7072cUgJ25"
      },
      "execution_count": 64,
      "outputs": []
    },
    {
      "cell_type": "code",
      "source": [
        "generate_completion(\n",
        "    prefixes=[\n",
        "        prompt_format.format(\n",
        "            text_after=item[\"code_after\"],\n",
        "            text_before=item[\"code_before\"]\n",
        "        )\n",
        "        for item in training_data[:10]\n",
        "    ],\n",
        "    model=model.cuda()\n",
        ")"
      ],
      "metadata": {
        "colab": {
          "base_uri": "https://localhost:8080/"
        },
        "id": "QhQ6ym_SgPKu",
        "outputId": "ebf9f0f7-f4bf-4ac0-b415-0273ce8e1742"
      },
      "execution_count": 65,
      "outputs": [
        {
          "output_type": "stream",
          "name": "stderr",
          "text": [
            "Setting `pad_token_id` to `eos_token_id`:50256 for open-end generation.\n"
          ]
        },
        {
          "output_type": "execute_result",
          "data": {
            "text/plain": [
              "[\"\\n# Here's a yaml file to offer a completion for\\n# Lines after the current one\\n\\n    - socks-disable\\n    - script-badblock-check\\n    - TT-WiFi-Setup\\n    - TT-set-dns-servers\\n\\n# Lines before the current one\\n---\\n- hosts: TT\\n  user: mikroansible\\n  gather_facts: no  \\n  connection: local\\n  roles:\\n    - connection-check\\n    - web-proxy-disable\\n    - email-setup    \\n    - script-fw-check\\n    - services\\n    - scritp\\n# Completion:\\n# - hosts: TT\\n#   roles:\\n#     - connection-check\\n#     - web-proxy-disable\\n#     - email-setup\\n#     - script-fw-check\\n#     - services\\n#     - scritp\\n# - hosts: TT\\n#   \",\n",
              " \"\\n# Here's a yaml file to offer a completion for\\n# Lines after the current one\\n\\n    - services\\n    - scritp-route-distance-check\\n    - socks-disable\\n    - script-badblock-check\\n    - TT-WiFi-Setup\\n    - TT-set-dns-servers\\n\\n# Lines before the current one\\n---\\n- hosts: TT\\n  user: mikroansible\\n  gather_facts: no  \\n  connection: local\\n  roles:\\n    - connection-check\\n    - web-proxy-disable\\n    - email-setup    \\n    - script-fw-ch\\n# Completion:\\n- hosts: TT\\n  gather_facts: no\\n  connection: local\\n  roles:\\n    - connection-check\\n    - web-proxy-disable\\n    - email-setup\\n    - script-fw-ch\\n\\n# Lines after the current one\\n---\\n- hosts:\",\n",
              " \"\\n# Here's a yaml file to offer a completion for\\n# Lines after the current one\\n\\n  gather_facts: no  \\n  connection: local\\n  roles:\\n    - connection-check\\n    - web-proxy-disable\\n    - email-setup    \\n    - script-fw-check\\n    - services\\n    - scritp-route-distance-check\\n    - socks-disable\\n    - script-badblock-check\\n    - TT-WiFi-Setup\\n    - TT-set-dns-servers\\n\\n# Lines before the current one\\n---\\n- hosts: TT\\n  user: mikro\\n# Completion:\\n- hosts: TT\\n  user: mikro\\n- hosts: TT\\n  user: mikro\\n- hosts: TT\\n  user: mikro\\n- hosts: TT\\n  user: mikro\\n- hosts: TT\\n  user: mikro\\n- hosts: TT\",\n",
              " \"\\n# Here's a yaml file to offer a completion for\\n# Lines after the current one\\n\\n\\n# Lines before the current one\\n---\\n- hosts: TT\\n  user: mikroansible\\n  gather_facts: no  \\n  connection: local\\n  roles:\\n    - connection-check\\n    - web-proxy-disable\\n    - email-setup    \\n    - script-fw-check\\n    - services\\n    - scritp-route-distance-check\\n    - socks-disable\\n    - script-badblock-check\\n    - TT-WiFi-Setup\\n  \\n# Completion:\\n# - hosts: TT\\n#   roles:\\n#     - connection-check\\n#     - web-proxy-disable\\n#     - email-setup\\n#     - script-fw-check\\n#     - services\\n#     - scritp-route-distance-check\\n#     \",\n",
              " \"\\n# Here's a yaml file to offer a completion for\\n# Lines after the current one\\n\\n    - socks-disable\\n    - script-badblock-check\\n    - TT-WiFi-Setup\\n    - TT-set-dns-servers\\n\\n# Lines before the current one\\n---\\n- hosts: TT\\n  user: mikroansible\\n  gather_facts: no  \\n  connection: local\\n  roles:\\n    - connection-check\\n    - web-proxy-disable\\n    - email-setup    \\n    - script-fw-check\\n    - services\\n    - scritp-route-distance\\n# Completion:\\n# - hosts: TT\\n#   roles:\\n#     - connection-check\\n#     - web-proxy-disable\\n#     - email-setup\\n#     - script-fw-check\\n#     - services\\n#     - scritp-route-distance\\n# - hosts:\",\n",
              " \"\\n# Here's a yaml file to offer a completion for\\n# Lines after the current one\\n\\n    - services\\n    - scritp-route-distance-check\\n    - socks-disable\\n    - script-badblock-check\\n    - TT-WiFi-Setup\\n    - TT-set-dns-servers\\n\\n# Lines before the current one\\n---\\n- hosts: TT\\n  user: mikroansible\\n  gather_facts: no  \\n  connection: local\\n  roles:\\n    - connection-check\\n    - web-proxy-disable\\n    - email-setup    \\n    -\\n# Completion:\\n\\n# Lines after the current one\\n---\\n- hosts: TT\\n  user: mikroansible\\n  gather_facts: no  \\n  connection: local\\n  roles:\\n    - connection-check\\n    - web-proxy-disable\\n    - email-setup    \\n\",\n",
              " \"\\n# Here's a yaml file to offer a completion for\\n# Lines after the current one\\n\\n  user: mikroansible\\n  gather_facts: no  \\n  connection: local\\n  roles:\\n    - connection-check\\n    - web-proxy-disable\\n    - email-setup    \\n    - script-fw-check\\n    - services\\n    - scritp-route-distance-check\\n    - socks-disable\\n    - script-badblock-check\\n    - TT-WiFi-Setup\\n    - TT-set-dns-servers\\n\\n# Lines before the current one\\n---\\n- hosts\\n# Completion:\\n# - hosts\\n# - hosts\\n# - hosts\\n# - hosts\\n# - hosts\\n# - hosts\\n# - hosts\\n# - hosts\\n# - hosts\\n# - hosts\\n# - hosts\\n# - hosts\\n# - hosts\\n# - hosts\\n# - hosts\\n# - hosts\\n\",\n",
              " \"\\n# Here's a yaml file to offer a completion for\\n# Lines after the current one\\n\\n  connection: local\\n  roles:\\n    - connection-check\\n    - web-proxy-disable\\n    - email-setup    \\n    - script-fw-check\\n    - services\\n    - scritp-route-distance-check\\n    - socks-disable\\n    - script-badblock-check\\n    - TT-WiFi-Setup\\n    - TT-set-dns-servers\\n\\n# Lines before the current one\\n---\\n- hosts: TT\\n  user: mikroansible\\n  gather_facts: no\\n# Completion:\\n# - hosts: TT\\n#   roles:\\n#     - connection-check\\n#     - web-proxy-disable\\n#     - email-setup\\n#     - script-fw-check\\n#     - services\\n#     - scritp-route-distance-check\\n#     \",\n",
              " \"\\n# Here's a yaml file to offer a completion for\\n# Lines after the current one\\n\\n    - web-proxy-disable\\n    - email-setup    \\n    - script-fw-check\\n    - services\\n    - scritp-route-distance-check\\n    - socks-disable\\n    - script-badblock-check\\n    - TT-WiFi-Setup\\n    - TT-set-dns-servers\\n\\n# Lines before the current one\\n---\\n- hosts: TT\\n  user: mikroansible\\n  gather_facts: no  \\n  connection: local\\n  roles:\\n    - con\\n# Completion:\\n# - web-proxy-disable\\n# - email-setup\\n# - script-fw-check\\n# - services\\n# - scritp-route-distance-check\\n# - socks-disable\\n# - script-badblock-check\\n# - TT-WiFi-Setup\\n# -\",\n",
              " \"\\n# Here's a yaml file to offer a completion for\\n# Lines after the current one\\n\\n  user: mikroansible\\n  gather_facts: no  \\n  connection: local\\n  roles:\\n    - connection-check\\n    - web-proxy-disable\\n    - email-setup    \\n    - script-fw-check\\n    - services\\n    - scritp-route-distance-check\\n    - socks-disable\\n    - script-badblock-check\\n    - TT-WiFi-Setup\\n    - TT-set-dns-servers\\n\\n# Lines before the current one\\n---\\n- hos\\n# Completion:\\n- hos\\n\\n# Lines after the current one\\n---\\n- hos\\n\\n# Lines before the current one\\n---\\n- hos\\n\\n# Lines after the current one\\n---\\n- hos\\n\\n# Lines before the current one\\n---\\n- hos\\n\\n# Lines after\"]"
            ]
          },
          "metadata": {},
          "execution_count": 65
        }
      ]
    },
    {
      "cell_type": "code",
      "source": [
        "from torch.utils.data import Dataset, DataLoader\n",
        "\n",
        "class YamlCompletion_dataset(Dataset):\n",
        "    def __init__(self, data):\n",
        "        self.data = [\n",
        "            {\n",
        "                \"prefix\": prompt_format.format(\n",
        "                    text_after=item[\"code_after\"],\n",
        "                    text_before=item[\"code_before\"]\n",
        "                ),\n",
        "                \"completion\": item[\"expected_code\"]\n",
        "            }\n",
        "            for item in data\n",
        "        ]\n",
        "\n",
        "    def __len__(self):\n",
        "        return len(self.data)\n",
        "\n",
        "    def __getitem__(self, idx):\n",
        "        return self.data[idx]"
      ],
      "metadata": {
        "id": "IeVqDv9eb9GE"
      },
      "execution_count": 66,
      "outputs": []
    },
    {
      "cell_type": "code",
      "source": [
        "dataset = YamlCompletion_dataset(training_data)\n",
        "dataset[0]"
      ],
      "metadata": {
        "colab": {
          "base_uri": "https://localhost:8080/"
        },
        "id": "998MbmHDcKgK",
        "outputId": "73a92c24-fc9c-4a2a-fbda-63a53b0ccbda"
      },
      "execution_count": 67,
      "outputs": [
        {
          "output_type": "execute_result",
          "data": {
            "text/plain": [
              "{'prefix': \"\\n# Here's a yaml file to offer a completion for\\n# Lines after the current one\\n\\n    - socks-disable\\n    - script-badblock-check\\n    - TT-WiFi-Setup\\n    - TT-set-dns-servers\\n\\n# Lines before the current one\\n---\\n- hosts: TT\\n  user: mikroansible\\n  gather_facts: no  \\n  connection: local\\n  roles:\\n    - connection-check\\n    - web-proxy-disable\\n    - email-setup    \\n    - script-fw-check\\n    - services\\n    - scritp\\n# Completion:\\n\",\n",
              " 'completion': '-route-distance-check'}"
            ]
          },
          "metadata": {},
          "execution_count": 67
        }
      ]
    },
    {
      "cell_type": "code",
      "source": [
        "def preprocess_batch(samples_batch, tokenizer, device='cuda'):\n",
        "    completions = [completion for completion in samples_batch['completion']]\n",
        "    prefix_and_completions = [\n",
        "        prefix + completion\n",
        "        for prefix, completion in zip(samples_batch['prefix'], samples_batch['completion'])\n",
        "    ]\n",
        "    tokenized_completions = [\n",
        "        tokenized_text + [tokenizer.pad_token_id]\n",
        "        for tokenized_text in tokenizer(completions)['input_ids']\n",
        "    ]\n",
        "    tokenized_with_prefixes = [\n",
        "        tokenized_text + [tokenizer.pad_token_id]\n",
        "        for tokenized_text in tokenizer(prefix_and_completions)['input_ids']\n",
        "    ]\n",
        "\n",
        "    tokenized_completions_padded = [\n",
        "        [-100]*(len(with_prefix) - len(completion)) + completion\n",
        "        for with_prefix, completion in zip(\n",
        "            tokenized_with_prefixes,\n",
        "            tokenized_completions\n",
        "        )\n",
        "    ]\n",
        "\n",
        "    max_length = max(len(text) for text in tokenized_with_prefixes)\n",
        "\n",
        "    model_inputs = {\n",
        "        \"input_ids\": [],\n",
        "        \"labels\": [],\n",
        "        \"attention_mask\": []\n",
        "    }\n",
        "\n",
        "    for text, label in zip(\n",
        "        tokenized_with_prefixes,\n",
        "        tokenized_completions_padded\n",
        "    ):\n",
        "        padding_length = max_length - len(text)\n",
        "\n",
        "        model_inputs['input_ids'].append(\n",
        "            [tokenizer.pad_token_id]*padding_length + text,\n",
        "        )\n",
        "        model_inputs['labels'].append(\n",
        "            [-100]*padding_length + label,\n",
        "        )\n",
        "        model_inputs['attention_mask'].append(\n",
        "            padding_length * [0] + len(text) * [1]\n",
        "        )\n",
        "    model_inputs = {\n",
        "        k: torch.tensor(v, dtype=int).to(device)\n",
        "        for k,v in model_inputs.items()\n",
        "    }\n",
        "    return model_inputs"
      ],
      "metadata": {
        "id": "zciX5uYQdfb9"
      },
      "execution_count": 68,
      "outputs": []
    },
    {
      "cell_type": "code",
      "source": [
        "peft_config = LoraConfig(\n",
        "    r=32,\n",
        "    target_modules='all-linear'\n",
        ")\n",
        "\n",
        "peft_model = get_peft_model(model, peft_config)\n",
        "peft_model.print_trainable_parameters()\n",
        "\n",
        "\n",
        "lr = 5e-5\n",
        "num_epochs = 5\n",
        "batch_size = 16"
      ],
      "metadata": {
        "colab": {
          "base_uri": "https://localhost:8080/"
        },
        "id": "hBVeftgciodf",
        "outputId": "d1f1391f-09f1-4f88-c28b-4b6476664caa"
      },
      "execution_count": 69,
      "outputs": [
        {
          "output_type": "stream",
          "name": "stdout",
          "text": [
            "trainable params: 10,485,760 || all params: 367,198,208 || trainable%: 2.8556\n"
          ]
        }
      ]
    },
    {
      "cell_type": "code",
      "source": [
        "train_dataloader = DataLoader(dataset, batch_size=batch_size)"
      ],
      "metadata": {
        "id": "6uVLtSoPkc6X"
      },
      "execution_count": 70,
      "outputs": []
    },
    {
      "cell_type": "code",
      "source": [
        "from transformers import get_linear_schedule_with_warmup\n",
        "\n",
        "optimizer = torch.optim.AdamW(model.parameters(), lr=lr)\n",
        "lr_scheduler = get_linear_schedule_with_warmup(\n",
        "    optimizer=optimizer,\n",
        "    num_warmup_steps=0,\n",
        "    num_training_steps=(len(train_dataloader) * num_epochs),\n",
        ")"
      ],
      "metadata": {
        "id": "gNexSOAWklb6"
      },
      "execution_count": 71,
      "outputs": []
    },
    {
      "cell_type": "code",
      "source": [
        "from tqdm import tqdm\n",
        "\n",
        "peft_model = peft_model.cuda()\n",
        "\n",
        "for epoch in range(num_epochs):\n",
        "    peft_model.train()\n",
        "    total_loss = 0\n",
        "    for step, batch in enumerate(tqdm(train_dataloader)):\n",
        "        model_inputs = preprocess_batch(batch, tokenizer=tokenizer)\n",
        "        outputs = peft_model(**model_inputs)\n",
        "        loss = outputs.loss\n",
        "        total_loss += loss.detach().float()\n",
        "        loss.backward()\n",
        "        optimizer.step()\n",
        "        lr_scheduler.step()\n",
        "        optimizer.zero_grad()\n",
        "\n",
        "    train_epoch_loss = total_loss / len(train_dataloader)\n",
        "    train_ppl = torch.exp(train_epoch_loss)\n",
        "    print(f\"{epoch=}:\\n{train_ppl=}\\n{train_epoch_loss=}\")\n",
        "    model.save_pretrained(f\"yaml_complete_epoch_{epoch}\")"
      ],
      "metadata": {
        "colab": {
          "base_uri": "https://localhost:8080/"
        },
        "id": "G7phJuhpkorr",
        "outputId": "03d797cd-7742-43f1-ed43-fa4d0b3c786c"
      },
      "execution_count": 72,
      "outputs": [
        {
          "metadata": {
            "tags": null
          },
          "name": "stderr",
          "output_type": "stream",
          "text": [
            "100%|██████████| 2471/2471 [12:56<00:00,  3.18it/s]\n"
          ]
        },
        {
          "metadata": {
            "tags": null
          },
          "name": "stdout",
          "output_type": "stream",
          "text": [
            "epoch=0:\n",
            "train_ppl=tensor(12.4103, device='cuda:0')\n",
            "train_epoch_loss=tensor(2.5185, device='cuda:0')\n"
          ]
        },
        {
          "metadata": {
            "tags": null
          },
          "name": "stderr",
          "output_type": "stream",
          "text": [
            "100%|██████████| 2471/2471 [12:55<00:00,  3.19it/s]\n"
          ]
        },
        {
          "metadata": {
            "tags": null
          },
          "name": "stdout",
          "output_type": "stream",
          "text": [
            "epoch=1:\n",
            "train_ppl=tensor(8.0226, device='cuda:0')\n",
            "train_epoch_loss=tensor(2.0823, device='cuda:0')\n"
          ]
        },
        {
          "output_type": "stream",
          "name": "stderr",
          "text": [
            "100%|██████████| 2471/2471 [12:54<00:00,  3.19it/s]\n"
          ]
        },
        {
          "output_type": "stream",
          "name": "stdout",
          "text": [
            "epoch=2:\n",
            "train_ppl=tensor(6.6509, device='cuda:0')\n",
            "train_epoch_loss=tensor(1.8947, device='cuda:0')\n"
          ]
        },
        {
          "output_type": "stream",
          "name": "stderr",
          "text": [
            "100%|██████████| 2471/2471 [12:54<00:00,  3.19it/s]\n"
          ]
        },
        {
          "output_type": "stream",
          "name": "stdout",
          "text": [
            "epoch=3:\n",
            "train_ppl=tensor(5.8408, device='cuda:0')\n",
            "train_epoch_loss=tensor(1.7649, device='cuda:0')\n"
          ]
        },
        {
          "output_type": "stream",
          "name": "stderr",
          "text": [
            "100%|██████████| 2471/2471 [12:54<00:00,  3.19it/s]\n"
          ]
        },
        {
          "output_type": "stream",
          "name": "stdout",
          "text": [
            "epoch=4:\n",
            "train_ppl=tensor(5.3871, device='cuda:0')\n",
            "train_epoch_loss=tensor(1.6840, device='cuda:0')\n"
          ]
        }
      ]
    },
    {
      "cell_type": "code",
      "source": [
        "generate_completion(\n",
        "    prefixes=[\n",
        "        prompt_format.format(\n",
        "            text_after=item[\"code_after\"],\n",
        "            text_before=item[\"code_before\"]\n",
        "        )\n",
        "        for item in training_data[:10]\n",
        "    ],\n",
        "    model=peft_model.cuda()\n",
        ")"
      ],
      "metadata": {
        "colab": {
          "base_uri": "https://localhost:8080/"
        },
        "id": "Gix-oAE9k2lj",
        "outputId": "20a6a7de-6bf8-45d6-cafb-9271109f18bf"
      },
      "execution_count": 73,
      "outputs": [
        {
          "output_type": "stream",
          "name": "stderr",
          "text": [
            "Setting `pad_token_id` to `eos_token_id`:50256 for open-end generation.\n"
          ]
        },
        {
          "output_type": "execute_result",
          "data": {
            "text/plain": [
              "[\"\\n# Here's a yaml file to offer a completion for\\n# Lines after the current one\\n\\n    - socks-disable\\n    - script-badblock-check\\n    - TT-WiFi-Setup\\n    - TT-set-dns-servers\\n\\n# Lines before the current one\\n---\\n- hosts: TT\\n  user: mikroansible\\n  gather_facts: no  \\n  connection: local\\n  roles:\\n    - connection-check\\n    - web-proxy-disable\\n    - email-setup    \\n    - script-fw-check\\n    - services\\n    - scritp\\n# Completion:\\ny-disable\",\n",
              " \"\\n# Here's a yaml file to offer a completion for\\n# Lines after the current one\\n\\n    - services\\n    - scritp-route-distance-check\\n    - socks-disable\\n    - script-badblock-check\\n    - TT-WiFi-Setup\\n    - TT-set-dns-servers\\n\\n# Lines before the current one\\n---\\n- hosts: TT\\n  user: mikroansible\\n  gather_facts: no  \\n  connection: local\\n  roles:\\n    - connection-check\\n    - web-proxy-disable\\n    - email-setup    \\n    - script-fw-ch\\n# Completion:\\nk\",\n",
              " \"\\n# Here's a yaml file to offer a completion for\\n# Lines after the current one\\n\\n  gather_facts: no  \\n  connection: local\\n  roles:\\n    - connection-check\\n    - web-proxy-disable\\n    - email-setup    \\n    - script-fw-check\\n    - services\\n    - scritp-route-distance-check\\n    - socks-disable\\n    - script-badblock-check\\n    - TT-WiFi-Setup\\n    - TT-set-dns-servers\\n\\n# Lines before the current one\\n---\\n- hosts: TT\\n  user: mikro\\n# Completion:\\nt\",\n",
              " \"\\n# Here's a yaml file to offer a completion for\\n# Lines after the current one\\n\\n\\n# Lines before the current one\\n---\\n- hosts: TT\\n  user: mikroansible\\n  gather_facts: no  \\n  connection: local\\n  roles:\\n    - connection-check\\n    - web-proxy-disable\\n    - email-setup    \\n    - script-fw-check\\n    - services\\n    - scritp-route-distance-check\\n    - socks-disable\\n    - script-badblock-check\\n    - TT-WiFi-Setup\\n  \\n# Completion:\\n  - TT-WiFi-Script\",\n",
              " \"\\n# Here's a yaml file to offer a completion for\\n# Lines after the current one\\n\\n    - socks-disable\\n    - script-badblock-check\\n    - TT-WiFi-Setup\\n    - TT-set-dns-servers\\n\\n# Lines before the current one\\n---\\n- hosts: TT\\n  user: mikroansible\\n  gather_facts: no  \\n  connection: local\\n  roles:\\n    - connection-check\\n    - web-proxy-disable\\n    - email-setup    \\n    - script-fw-check\\n    - services\\n    - scritp-route-distance\\n# Completion:\\n-check\",\n",
              " \"\\n# Here's a yaml file to offer a completion for\\n# Lines after the current one\\n\\n    - services\\n    - scritp-route-distance-check\\n    - socks-disable\\n    - script-badblock-check\\n    - TT-WiFi-Setup\\n    - TT-set-dns-servers\\n\\n# Lines before the current one\\n---\\n- hosts: TT\\n  user: mikroansible\\n  gather_facts: no  \\n  connection: local\\n  roles:\\n    - connection-check\\n    - web-proxy-disable\\n    - email-setup    \\n    -\\n# Completion:\\n script-badblock-check\",\n",
              " \"\\n# Here's a yaml file to offer a completion for\\n# Lines after the current one\\n\\n  user: mikroansible\\n  gather_facts: no  \\n  connection: local\\n  roles:\\n    - connection-check\\n    - web-proxy-disable\\n    - email-setup    \\n    - script-fw-check\\n    - services\\n    - scritp-route-distance-check\\n    - socks-disable\\n    - script-badblock-check\\n    - TT-WiFi-Setup\\n    - TT-set-dns-servers\\n\\n# Lines before the current one\\n---\\n- hosts\\n# Completion:\\n: all\",\n",
              " \"\\n# Here's a yaml file to offer a completion for\\n# Lines after the current one\\n\\n  connection: local\\n  roles:\\n    - connection-check\\n    - web-proxy-disable\\n    - email-setup    \\n    - script-fw-check\\n    - services\\n    - scritp-route-distance-check\\n    - socks-disable\\n    - script-badblock-check\\n    - TT-WiFi-Setup\\n    - TT-set-dns-servers\\n\\n# Lines before the current one\\n---\\n- hosts: TT\\n  user: mikroansible\\n  gather_facts: no\\n# Completion:\\n\",\n",
              " \"\\n# Here's a yaml file to offer a completion for\\n# Lines after the current one\\n\\n    - web-proxy-disable\\n    - email-setup    \\n    - script-fw-check\\n    - services\\n    - scritp-route-distance-check\\n    - socks-disable\\n    - script-badblock-check\\n    - TT-WiFi-Setup\\n    - TT-set-dns-servers\\n\\n# Lines before the current one\\n---\\n- hosts: TT\\n  user: mikroansible\\n  gather_facts: no  \\n  connection: local\\n  roles:\\n    - con\\n# Completion:\\nnnect-to-tt\",\n",
              " \"\\n# Here's a yaml file to offer a completion for\\n# Lines after the current one\\n\\n  user: mikroansible\\n  gather_facts: no  \\n  connection: local\\n  roles:\\n    - connection-check\\n    - web-proxy-disable\\n    - email-setup    \\n    - script-fw-check\\n    - services\\n    - scritp-route-distance-check\\n    - socks-disable\\n    - script-badblock-check\\n    - TT-WiFi-Setup\\n    - TT-set-dns-servers\\n\\n# Lines before the current one\\n---\\n- hos\\n# Completion:\\nts: localhost\"]"
            ]
          },
          "metadata": {},
          "execution_count": 73
        }
      ]
    },
    {
      "cell_type": "code",
      "source": [
        "peft_model.push_to_hub(\"yaml_completion\", )"
      ],
      "metadata": {
        "colab": {
          "base_uri": "https://localhost:8080/",
          "height": 478
        },
        "id": "yAwa6Edgp8_x",
        "outputId": "a4831a36-4e7d-41cf-f1d5-2990d7757eaa"
      },
      "execution_count": 77,
      "outputs": [
        {
          "output_type": "error",
          "ename": "HfHubHTTPError",
          "evalue": " (Request ID: Root=1-66d893bf-790055e57b084efe6a033a37;60479972-60b5-44fa-9f72-5e177445eeab)\n\n403 Forbidden: You don't have the rights to create a model under the namespace \"alexvumnov\".\nCannot access content at: https://huggingface.co/api/repos/create.\nIf you are trying to create or update content,make sure you have a token with the `write` role.",
          "traceback": [
            "\u001b[0;31m---------------------------------------------------------------------------\u001b[0m",
            "\u001b[0;31mHTTPError\u001b[0m                                 Traceback (most recent call last)",
            "\u001b[0;32m/usr/local/lib/python3.10/dist-packages/huggingface_hub/utils/_errors.py\u001b[0m in \u001b[0;36mhf_raise_for_status\u001b[0;34m(response, endpoint_name)\u001b[0m\n\u001b[1;32m    303\u001b[0m     \u001b[0;32mtry\u001b[0m\u001b[0;34m:\u001b[0m\u001b[0;34m\u001b[0m\u001b[0;34m\u001b[0m\u001b[0m\n\u001b[0;32m--> 304\u001b[0;31m         \u001b[0mresponse\u001b[0m\u001b[0;34m.\u001b[0m\u001b[0mraise_for_status\u001b[0m\u001b[0;34m(\u001b[0m\u001b[0;34m)\u001b[0m\u001b[0;34m\u001b[0m\u001b[0;34m\u001b[0m\u001b[0m\n\u001b[0m\u001b[1;32m    305\u001b[0m     \u001b[0;32mexcept\u001b[0m \u001b[0mHTTPError\u001b[0m \u001b[0;32mas\u001b[0m \u001b[0me\u001b[0m\u001b[0;34m:\u001b[0m\u001b[0;34m\u001b[0m\u001b[0;34m\u001b[0m\u001b[0m\n",
            "\u001b[0;32m/usr/local/lib/python3.10/dist-packages/requests/models.py\u001b[0m in \u001b[0;36mraise_for_status\u001b[0;34m(self)\u001b[0m\n\u001b[1;32m   1023\u001b[0m         \u001b[0;32mif\u001b[0m \u001b[0mhttp_error_msg\u001b[0m\u001b[0;34m:\u001b[0m\u001b[0;34m\u001b[0m\u001b[0;34m\u001b[0m\u001b[0m\n\u001b[0;32m-> 1024\u001b[0;31m             \u001b[0;32mraise\u001b[0m \u001b[0mHTTPError\u001b[0m\u001b[0;34m(\u001b[0m\u001b[0mhttp_error_msg\u001b[0m\u001b[0;34m,\u001b[0m \u001b[0mresponse\u001b[0m\u001b[0;34m=\u001b[0m\u001b[0mself\u001b[0m\u001b[0;34m)\u001b[0m\u001b[0;34m\u001b[0m\u001b[0;34m\u001b[0m\u001b[0m\n\u001b[0m\u001b[1;32m   1025\u001b[0m \u001b[0;34m\u001b[0m\u001b[0m\n",
            "\u001b[0;31mHTTPError\u001b[0m: 403 Client Error: Forbidden for url: https://huggingface.co/api/repos/create",
            "\nThe above exception was the direct cause of the following exception:\n",
            "\u001b[0;31mHfHubHTTPError\u001b[0m                            Traceback (most recent call last)",
            "\u001b[0;32m<ipython-input-77-c7bbe03c902f>\u001b[0m in \u001b[0;36m<cell line: 1>\u001b[0;34m()\u001b[0m\n\u001b[0;32m----> 1\u001b[0;31m \u001b[0mpeft_model\u001b[0m\u001b[0;34m.\u001b[0m\u001b[0mpush_to_hub\u001b[0m\u001b[0;34m(\u001b[0m\u001b[0;34m\"yaml_completion\"\u001b[0m\u001b[0;34m,\u001b[0m \u001b[0;34m)\u001b[0m\u001b[0;34m\u001b[0m\u001b[0;34m\u001b[0m\u001b[0m\n\u001b[0m",
            "\u001b[0;32m/usr/local/lib/python3.10/dist-packages/transformers/utils/hub.py\u001b[0m in \u001b[0;36mpush_to_hub\u001b[0;34m(self, repo_id, use_temp_dir, commit_message, private, token, max_shard_size, create_pr, safe_serialization, revision, commit_description, tags, **deprecated_kwargs)\u001b[0m\n\u001b[1;32m    912\u001b[0m         \u001b[0morganization\u001b[0m \u001b[0;34m=\u001b[0m \u001b[0mdeprecated_kwargs\u001b[0m\u001b[0;34m.\u001b[0m\u001b[0mpop\u001b[0m\u001b[0;34m(\u001b[0m\u001b[0;34m\"organization\"\u001b[0m\u001b[0;34m,\u001b[0m \u001b[0;32mNone\u001b[0m\u001b[0;34m)\u001b[0m\u001b[0;34m\u001b[0m\u001b[0;34m\u001b[0m\u001b[0m\n\u001b[1;32m    913\u001b[0m \u001b[0;34m\u001b[0m\u001b[0m\n\u001b[0;32m--> 914\u001b[0;31m         repo_id = self._create_repo(\n\u001b[0m\u001b[1;32m    915\u001b[0m             \u001b[0mrepo_id\u001b[0m\u001b[0;34m,\u001b[0m \u001b[0mprivate\u001b[0m\u001b[0;34m=\u001b[0m\u001b[0mprivate\u001b[0m\u001b[0;34m,\u001b[0m \u001b[0mtoken\u001b[0m\u001b[0;34m=\u001b[0m\u001b[0mtoken\u001b[0m\u001b[0;34m,\u001b[0m \u001b[0mrepo_url\u001b[0m\u001b[0;34m=\u001b[0m\u001b[0mrepo_url\u001b[0m\u001b[0;34m,\u001b[0m \u001b[0morganization\u001b[0m\u001b[0;34m=\u001b[0m\u001b[0morganization\u001b[0m\u001b[0;34m\u001b[0m\u001b[0;34m\u001b[0m\u001b[0m\n\u001b[1;32m    916\u001b[0m         )\n",
            "\u001b[0;32m/usr/local/lib/python3.10/dist-packages/transformers/utils/hub.py\u001b[0m in \u001b[0;36m_create_repo\u001b[0;34m(self, repo_id, private, token, repo_url, organization)\u001b[0m\n\u001b[1;32m    728\u001b[0m                 \u001b[0mrepo_id\u001b[0m \u001b[0;34m=\u001b[0m \u001b[0;34mf\"{organization}/{repo_id}\"\u001b[0m\u001b[0;34m\u001b[0m\u001b[0;34m\u001b[0m\u001b[0m\n\u001b[1;32m    729\u001b[0m \u001b[0;34m\u001b[0m\u001b[0m\n\u001b[0;32m--> 730\u001b[0;31m         \u001b[0murl\u001b[0m \u001b[0;34m=\u001b[0m \u001b[0mcreate_repo\u001b[0m\u001b[0;34m(\u001b[0m\u001b[0mrepo_id\u001b[0m\u001b[0;34m=\u001b[0m\u001b[0mrepo_id\u001b[0m\u001b[0;34m,\u001b[0m \u001b[0mtoken\u001b[0m\u001b[0;34m=\u001b[0m\u001b[0mtoken\u001b[0m\u001b[0;34m,\u001b[0m \u001b[0mprivate\u001b[0m\u001b[0;34m=\u001b[0m\u001b[0mprivate\u001b[0m\u001b[0;34m,\u001b[0m \u001b[0mexist_ok\u001b[0m\u001b[0;34m=\u001b[0m\u001b[0;32mTrue\u001b[0m\u001b[0;34m)\u001b[0m\u001b[0;34m\u001b[0m\u001b[0;34m\u001b[0m\u001b[0m\n\u001b[0m\u001b[1;32m    731\u001b[0m         \u001b[0;32mreturn\u001b[0m \u001b[0murl\u001b[0m\u001b[0;34m.\u001b[0m\u001b[0mrepo_id\u001b[0m\u001b[0;34m\u001b[0m\u001b[0;34m\u001b[0m\u001b[0m\n\u001b[1;32m    732\u001b[0m \u001b[0;34m\u001b[0m\u001b[0m\n",
            "\u001b[0;32m/usr/local/lib/python3.10/dist-packages/huggingface_hub/utils/_validators.py\u001b[0m in \u001b[0;36m_inner_fn\u001b[0;34m(*args, **kwargs)\u001b[0m\n\u001b[1;32m    112\u001b[0m             \u001b[0mkwargs\u001b[0m \u001b[0;34m=\u001b[0m \u001b[0msmoothly_deprecate_use_auth_token\u001b[0m\u001b[0;34m(\u001b[0m\u001b[0mfn_name\u001b[0m\u001b[0;34m=\u001b[0m\u001b[0mfn\u001b[0m\u001b[0;34m.\u001b[0m\u001b[0m__name__\u001b[0m\u001b[0;34m,\u001b[0m \u001b[0mhas_token\u001b[0m\u001b[0;34m=\u001b[0m\u001b[0mhas_token\u001b[0m\u001b[0;34m,\u001b[0m \u001b[0mkwargs\u001b[0m\u001b[0;34m=\u001b[0m\u001b[0mkwargs\u001b[0m\u001b[0;34m)\u001b[0m\u001b[0;34m\u001b[0m\u001b[0;34m\u001b[0m\u001b[0m\n\u001b[1;32m    113\u001b[0m \u001b[0;34m\u001b[0m\u001b[0m\n\u001b[0;32m--> 114\u001b[0;31m         \u001b[0;32mreturn\u001b[0m \u001b[0mfn\u001b[0m\u001b[0;34m(\u001b[0m\u001b[0;34m*\u001b[0m\u001b[0margs\u001b[0m\u001b[0;34m,\u001b[0m \u001b[0;34m**\u001b[0m\u001b[0mkwargs\u001b[0m\u001b[0;34m)\u001b[0m\u001b[0;34m\u001b[0m\u001b[0;34m\u001b[0m\u001b[0m\n\u001b[0m\u001b[1;32m    115\u001b[0m \u001b[0;34m\u001b[0m\u001b[0m\n\u001b[1;32m    116\u001b[0m     \u001b[0;32mreturn\u001b[0m \u001b[0m_inner_fn\u001b[0m  \u001b[0;31m# type: ignore\u001b[0m\u001b[0;34m\u001b[0m\u001b[0;34m\u001b[0m\u001b[0m\n",
            "\u001b[0;32m/usr/local/lib/python3.10/dist-packages/huggingface_hub/hf_api.py\u001b[0m in \u001b[0;36mcreate_repo\u001b[0;34m(self, repo_id, token, private, repo_type, exist_ok, space_sdk, space_hardware, space_storage, space_sleep_time, space_secrets, space_variables)\u001b[0m\n\u001b[1;32m   3267\u001b[0m                     \u001b[0;32mreturn\u001b[0m \u001b[0mRepoUrl\u001b[0m\u001b[0;34m(\u001b[0m\u001b[0;34mf\"{self.endpoint}/{repo_type}/{repo_id}\"\u001b[0m\u001b[0;34m)\u001b[0m\u001b[0;34m\u001b[0m\u001b[0;34m\u001b[0m\u001b[0m\n\u001b[1;32m   3268\u001b[0m                 \u001b[0;32mexcept\u001b[0m \u001b[0mHfHubHTTPError\u001b[0m\u001b[0;34m:\u001b[0m\u001b[0;34m\u001b[0m\u001b[0;34m\u001b[0m\u001b[0m\n\u001b[0;32m-> 3269\u001b[0;31m                     \u001b[0;32mraise\u001b[0m \u001b[0merr\u001b[0m\u001b[0;34m\u001b[0m\u001b[0;34m\u001b[0m\u001b[0m\n\u001b[0m\u001b[1;32m   3270\u001b[0m             \u001b[0;32melse\u001b[0m\u001b[0;34m:\u001b[0m\u001b[0;34m\u001b[0m\u001b[0;34m\u001b[0m\u001b[0m\n\u001b[1;32m   3271\u001b[0m                 \u001b[0;32mraise\u001b[0m\u001b[0;34m\u001b[0m\u001b[0;34m\u001b[0m\u001b[0m\n",
            "\u001b[0;32m/usr/local/lib/python3.10/dist-packages/huggingface_hub/hf_api.py\u001b[0m in \u001b[0;36mcreate_repo\u001b[0;34m(self, repo_id, token, private, repo_type, exist_ok, space_sdk, space_hardware, space_storage, space_sleep_time, space_secrets, space_variables)\u001b[0m\n\u001b[1;32m   3254\u001b[0m \u001b[0;34m\u001b[0m\u001b[0m\n\u001b[1;32m   3255\u001b[0m         \u001b[0;32mtry\u001b[0m\u001b[0;34m:\u001b[0m\u001b[0;34m\u001b[0m\u001b[0;34m\u001b[0m\u001b[0m\n\u001b[0;32m-> 3256\u001b[0;31m             \u001b[0mhf_raise_for_status\u001b[0m\u001b[0;34m(\u001b[0m\u001b[0mr\u001b[0m\u001b[0;34m)\u001b[0m\u001b[0;34m\u001b[0m\u001b[0;34m\u001b[0m\u001b[0m\n\u001b[0m\u001b[1;32m   3257\u001b[0m         \u001b[0;32mexcept\u001b[0m \u001b[0mHTTPError\u001b[0m \u001b[0;32mas\u001b[0m \u001b[0merr\u001b[0m\u001b[0;34m:\u001b[0m\u001b[0;34m\u001b[0m\u001b[0;34m\u001b[0m\u001b[0m\n\u001b[1;32m   3258\u001b[0m             \u001b[0;32mif\u001b[0m \u001b[0mexist_ok\u001b[0m \u001b[0;32mand\u001b[0m \u001b[0merr\u001b[0m\u001b[0;34m.\u001b[0m\u001b[0mresponse\u001b[0m\u001b[0;34m.\u001b[0m\u001b[0mstatus_code\u001b[0m \u001b[0;34m==\u001b[0m \u001b[0;36m409\u001b[0m\u001b[0;34m:\u001b[0m\u001b[0;34m\u001b[0m\u001b[0;34m\u001b[0m\u001b[0m\n",
            "\u001b[0;32m/usr/local/lib/python3.10/dist-packages/huggingface_hub/utils/_errors.py\u001b[0m in \u001b[0;36mhf_raise_for_status\u001b[0;34m(response, endpoint_name)\u001b[0m\n\u001b[1;32m    365\u001b[0m                 \u001b[0;34m+\u001b[0m \u001b[0;34m\"make sure you have a token with the `write` role.\"\u001b[0m\u001b[0;34m\u001b[0m\u001b[0;34m\u001b[0m\u001b[0m\n\u001b[1;32m    366\u001b[0m             )\n\u001b[0;32m--> 367\u001b[0;31m             \u001b[0;32mraise\u001b[0m \u001b[0mHfHubHTTPError\u001b[0m\u001b[0;34m(\u001b[0m\u001b[0mmessage\u001b[0m\u001b[0;34m,\u001b[0m \u001b[0mresponse\u001b[0m\u001b[0;34m=\u001b[0m\u001b[0mresponse\u001b[0m\u001b[0;34m)\u001b[0m \u001b[0;32mfrom\u001b[0m \u001b[0me\u001b[0m\u001b[0;34m\u001b[0m\u001b[0;34m\u001b[0m\u001b[0m\n\u001b[0m\u001b[1;32m    368\u001b[0m \u001b[0;34m\u001b[0m\u001b[0m\n\u001b[1;32m    369\u001b[0m         \u001b[0;31m# Convert `HTTPError` into a `HfHubHTTPError` to display request information\u001b[0m\u001b[0;34m\u001b[0m\u001b[0;34m\u001b[0m\u001b[0m\n",
            "\u001b[0;31mHfHubHTTPError\u001b[0m:  (Request ID: Root=1-66d893bf-790055e57b084efe6a033a37;60479972-60b5-44fa-9f72-5e177445eeab)\n\n403 Forbidden: You don't have the rights to create a model under the namespace \"alexvumnov\".\nCannot access content at: https://huggingface.co/api/repos/create.\nIf you are trying to create or update content,make sure you have a token with the `write` role."
          ]
        }
      ]
    },
    {
      "cell_type": "code",
      "source": [
        "peft_model.save_pretrained(\"final_model\", save_adapter=True, save_config=True)"
      ],
      "metadata": {
        "id": "mDq2oeHBAqLi"
      },
      "execution_count": 83,
      "outputs": []
    },
    {
      "cell_type": "code",
      "source": [
        "merged_model = peft_model.merge_and_unload()\n",
        "merged_model.save_pretrained(\"final_merged_model\")"
      ],
      "metadata": {
        "id": "ZhfjyazgBXZd"
      },
      "execution_count": 84,
      "outputs": []
    },
    {
      "cell_type": "markdown",
      "source": [
        "# Testing and publishing"
      ],
      "metadata": {
        "id": "xzetC81vDM9u"
      }
    },
    {
      "cell_type": "code",
      "source": [
        "from transformers import (\n",
        "    AutoModelForCausalLM,\n",
        "    AutoTokenizer\n",
        ")"
      ],
      "metadata": {
        "id": "tejpV4x-Co62"
      },
      "execution_count": 1,
      "outputs": []
    },
    {
      "cell_type": "code",
      "source": [
        "from huggingface_hub import notebook_login\n",
        "\n",
        "notebook_login()"
      ],
      "metadata": {
        "colab": {
          "base_uri": "https://localhost:8080/",
          "height": 145,
          "referenced_widgets": [
            "95f88b571e6249ed8dc29aa8eb776759",
            "3a1f069234784703969c78c40562574b",
            "97150af5ef7046d2a46c952683fced5d",
            "ab9b1bd212ce495697a92f11cae28418",
            "b96e85750b794e179768c7e776d2493c",
            "0d4fadd6191e41aeb87e910996535d4a",
            "90c063d93a44437fb37270d0ea4b7992",
            "bf2534cd209e4228a98cb39ec151bd01",
            "2c06f88064ac42eda0ad584d00b8d922",
            "342a07f9ea0a4b5b9b3f3dc8f5c72b7e",
            "cbf777f332374f20b2ce3ce2bc0ac564",
            "6171edeb79754faa9f582e066ca3108c",
            "8c7aa6f695864ba3b33ef6d01296e795",
            "cdf88e05122b45828922c080d2495947",
            "7485f9fc30e64ff5a1eab14741242752",
            "23240f60b58b44d98cf5a6627661408a",
            "152a91fedfe3424d8bab3066029b465e",
            "1a2b241edfc24ff29d7c4e7855e9d3aa",
            "57e4ff0e1dad481f8b18b05994f30ef8",
            "2f1d89884c1a467c9583af366dd2b08b",
            "d77b955281054f0fb005e899b7842c70",
            "11daa6926cb54681bdfb1264105b001a",
            "f2eb43cc16b6423988f143f3362368ad",
            "ef2a9171c401431c82e66ff2357a5394",
            "f48796c2989645968bdf35a19be5f916",
            "4f951826ce1c4890921dd4cf0fbc48d4",
            "44cd746f55414317aa511eca1ce1b351",
            "4dcf48be25094b20b8d68bedb95d9881",
            "de28aad2bf3245c683f451b1fb3bd0e7",
            "e2ebf1f02c534f47b0c3b27a4d642652",
            "cc62c82995c74916b171a99a22ea4d20",
            "7e22a301f8c44b52a778e7a13e4d163e"
          ]
        },
        "id": "BXJP2IA6AGg3",
        "outputId": "f777ecc0-1e79-4b1a-9aef-d8110184b9e9"
      },
      "execution_count": 3,
      "outputs": [
        {
          "output_type": "display_data",
          "data": {
            "text/plain": [
              "VBox(children=(HTML(value='<center> <img\\nsrc=https://huggingface.co/front/assets/huggingface_logo-noborder.sv…"
            ],
            "application/vnd.jupyter.widget-view+json": {
              "version_major": 2,
              "version_minor": 0,
              "model_id": "95f88b571e6249ed8dc29aa8eb776759"
            }
          },
          "metadata": {}
        }
      ]
    },
    {
      "cell_type": "code",
      "source": [
        "new_model = AutoModelForCausalLM.from_pretrained(\n",
        "    \"final_merged_model\",\n",
        "    device_map='auto'\n",
        ")\n",
        "tokenizer = AutoTokenizer.from_pretrained(\n",
        "    \"Salesforce/codegen-350M-multi\",\n",
        "    padding_side='left'\n",
        ")\n",
        "if tokenizer.pad_token_id is None:\n",
        "    tokenizer.pad_token_id = tokenizer.eos_token_id"
      ],
      "metadata": {
        "id": "edUmyo2i_p6K"
      },
      "execution_count": 24,
      "outputs": []
    },
    {
      "cell_type": "code",
      "source": [
        "from typing import List\n",
        "from transformers import PreTrainedModel\n",
        "\n",
        "def generate_completion(\n",
        "        prefixes: List[str],\n",
        "        model: PreTrainedModel,\n",
        "        device: str = 'cuda',\n",
        "        max_generated_tokens: int = 64\n",
        "    ):\n",
        "    tokenized = tokenizer(prefixes, return_tensors='pt', padding=True)\n",
        "    tokenized = {k: v.to(device) for k, v in tokenized.items()}\n",
        "\n",
        "    output = model.generate(\n",
        "        **tokenized,\n",
        "        max_new_tokens=max_generated_tokens,\n",
        "        eos_token_id=tokenizer.eos_token_id\n",
        "    )\n",
        "    tokenized = {k: v.cpu() for k, v in tokenized.items()}\n",
        "\n",
        "    return tokenizer.batch_decode(output, skip_special_tokens=True)"
      ],
      "metadata": {
        "id": "eUbLPPh1CxvY"
      },
      "execution_count": 25,
      "outputs": []
    },
    {
      "cell_type": "code",
      "source": [
        "import json\n",
        "\n",
        "training_data = json.load(open(\"training_data.json\"))"
      ],
      "metadata": {
        "id": "VyXYlJ-XDOrm"
      },
      "execution_count": 26,
      "outputs": []
    },
    {
      "cell_type": "code",
      "source": [
        "prompt_format = \"\"\"\n",
        "# Here's a yaml file to offer a completion for\n",
        "# Lines after the current one\n",
        "{text_after}\n",
        "# Lines before the current one\n",
        "{text_before}\n",
        "# Completion:\n",
        "\"\"\""
      ],
      "metadata": {
        "id": "-2ebBo42DWXm"
      },
      "execution_count": 27,
      "outputs": []
    },
    {
      "cell_type": "code",
      "source": [
        "generate_completion(\n",
        "    prefixes=[\n",
        "        prompt_format.format(\n",
        "            text_after=item[\"code_after\"],\n",
        "            text_before=item[\"code_before\"]\n",
        "        )\n",
        "        for item in training_data[:10]\n",
        "    ],\n",
        "    model=new_model.cuda()\n",
        ")"
      ],
      "metadata": {
        "colab": {
          "base_uri": "https://localhost:8080/"
        },
        "id": "Gdn7to-lAZQl",
        "outputId": "eb195ac3-eff4-42f3-a5f6-91318fcd5877"
      },
      "execution_count": 28,
      "outputs": [
        {
          "output_type": "stream",
          "name": "stderr",
          "text": [
            "Setting `pad_token_id` to `eos_token_id`:50256 for open-end generation.\n"
          ]
        },
        {
          "output_type": "execute_result",
          "data": {
            "text/plain": [
              "[\"\\n# Here's a yaml file to offer a completion for\\n# Lines after the current one\\n\\n    - socks-disable\\n    - script-badblock-check\\n    - TT-WiFi-Setup\\n    - TT-set-dns-servers\\n\\n# Lines before the current one\\n---\\n- hosts: TT\\n  user: mikroansible\\n  gather_facts: no  \\n  connection: local\\n  roles:\\n    - connection-check\\n    - web-proxy-disable\\n    - email-setup    \\n    - script-fw-check\\n    - services\\n    - scritp\\n# Completion:\\ny-disable\",\n",
              " \"\\n# Here's a yaml file to offer a completion for\\n# Lines after the current one\\n\\n    - services\\n    - scritp-route-distance-check\\n    - socks-disable\\n    - script-badblock-check\\n    - TT-WiFi-Setup\\n    - TT-set-dns-servers\\n\\n# Lines before the current one\\n---\\n- hosts: TT\\n  user: mikroansible\\n  gather_facts: no  \\n  connection: local\\n  roles:\\n    - connection-check\\n    - web-proxy-disable\\n    - email-setup    \\n    - script-fw-ch\\n# Completion:\\nk\",\n",
              " \"\\n# Here's a yaml file to offer a completion for\\n# Lines after the current one\\n\\n  gather_facts: no  \\n  connection: local\\n  roles:\\n    - connection-check\\n    - web-proxy-disable\\n    - email-setup    \\n    - script-fw-check\\n    - services\\n    - scritp-route-distance-check\\n    - socks-disable\\n    - script-badblock-check\\n    - TT-WiFi-Setup\\n    - TT-set-dns-servers\\n\\n# Lines before the current one\\n---\\n- hosts: TT\\n  user: mikro\\n# Completion:\\nt\",\n",
              " \"\\n# Here's a yaml file to offer a completion for\\n# Lines after the current one\\n\\n\\n# Lines before the current one\\n---\\n- hosts: TT\\n  user: mikroansible\\n  gather_facts: no  \\n  connection: local\\n  roles:\\n    - connection-check\\n    - web-proxy-disable\\n    - email-setup    \\n    - script-fw-check\\n    - services\\n    - scritp-route-distance-check\\n    - socks-disable\\n    - script-badblock-check\\n    - TT-WiFi-Setup\\n  \\n# Completion:\\n  - TT-WiFi-Script\",\n",
              " \"\\n# Here's a yaml file to offer a completion for\\n# Lines after the current one\\n\\n    - socks-disable\\n    - script-badblock-check\\n    - TT-WiFi-Setup\\n    - TT-set-dns-servers\\n\\n# Lines before the current one\\n---\\n- hosts: TT\\n  user: mikroansible\\n  gather_facts: no  \\n  connection: local\\n  roles:\\n    - connection-check\\n    - web-proxy-disable\\n    - email-setup    \\n    - script-fw-check\\n    - services\\n    - scritp-route-distance\\n# Completion:\\n-check\",\n",
              " \"\\n# Here's a yaml file to offer a completion for\\n# Lines after the current one\\n\\n    - services\\n    - scritp-route-distance-check\\n    - socks-disable\\n    - script-badblock-check\\n    - TT-WiFi-Setup\\n    - TT-set-dns-servers\\n\\n# Lines before the current one\\n---\\n- hosts: TT\\n  user: mikroansible\\n  gather_facts: no  \\n  connection: local\\n  roles:\\n    - connection-check\\n    - web-proxy-disable\\n    - email-setup    \\n    -\\n# Completion:\\n script-badblock-check\",\n",
              " \"\\n# Here's a yaml file to offer a completion for\\n# Lines after the current one\\n\\n  user: mikroansible\\n  gather_facts: no  \\n  connection: local\\n  roles:\\n    - connection-check\\n    - web-proxy-disable\\n    - email-setup    \\n    - script-fw-check\\n    - services\\n    - scritp-route-distance-check\\n    - socks-disable\\n    - script-badblock-check\\n    - TT-WiFi-Setup\\n    - TT-set-dns-servers\\n\\n# Lines before the current one\\n---\\n- hosts\\n# Completion:\\n: all\",\n",
              " \"\\n# Here's a yaml file to offer a completion for\\n# Lines after the current one\\n\\n  connection: local\\n  roles:\\n    - connection-check\\n    - web-proxy-disable\\n    - email-setup    \\n    - script-fw-check\\n    - services\\n    - scritp-route-distance-check\\n    - socks-disable\\n    - script-badblock-check\\n    - TT-WiFi-Setup\\n    - TT-set-dns-servers\\n\\n# Lines before the current one\\n---\\n- hosts: TT\\n  user: mikroansible\\n  gather_facts: no\\n# Completion:\\n\",\n",
              " \"\\n# Here's a yaml file to offer a completion for\\n# Lines after the current one\\n\\n    - web-proxy-disable\\n    - email-setup    \\n    - script-fw-check\\n    - services\\n    - scritp-route-distance-check\\n    - socks-disable\\n    - script-badblock-check\\n    - TT-WiFi-Setup\\n    - TT-set-dns-servers\\n\\n# Lines before the current one\\n---\\n- hosts: TT\\n  user: mikroansible\\n  gather_facts: no  \\n  connection: local\\n  roles:\\n    - con\\n# Completion:\\nnnect-to-tt\",\n",
              " \"\\n# Here's a yaml file to offer a completion for\\n# Lines after the current one\\n\\n  user: mikroansible\\n  gather_facts: no  \\n  connection: local\\n  roles:\\n    - connection-check\\n    - web-proxy-disable\\n    - email-setup    \\n    - script-fw-check\\n    - services\\n    - scritp-route-distance-check\\n    - socks-disable\\n    - script-badblock-check\\n    - TT-WiFi-Setup\\n    - TT-set-dns-servers\\n\\n# Lines before the current one\\n---\\n- hos\\n# Completion:\\nts: localhost\"]"
            ]
          },
          "metadata": {},
          "execution_count": 28
        }
      ]
    },
    {
      "cell_type": "code",
      "source": [
        "new_model.push_to_hub(\"yaml_completion\")"
      ],
      "metadata": {
        "colab": {
          "base_uri": "https://localhost:8080/",
          "height": 84,
          "referenced_widgets": [
            "3fd5b0aec3804d018a4d2d6545d3efea",
            "74c5675d2285420fae19a3455091ec54",
            "66d94723194640c087c43ea74dc85dd7",
            "5696326911d04ae284d459576748fef7",
            "2bbadb4503f34616b001437cafde5308",
            "e50f045a77624e67ae8d4d2703e7d020",
            "0e1fcaf52f1e49f7bbe3b7d0f2cf130e",
            "e74ba5a9152a4ce7842f4f90a0826b98",
            "be749396187d42bdb0a42920163568d0",
            "ae66cd12ca344c72aaf287bfac13ab3c",
            "090b9aa3e0fe438b99bafb7023558ebd"
          ]
        },
        "id": "0vG2aO44AjKx",
        "outputId": "70a66671-2745-437c-9cbd-88f30d61484c"
      },
      "execution_count": 29,
      "outputs": [
        {
          "output_type": "display_data",
          "data": {
            "text/plain": [
              "model.safetensors:   0%|          | 0.00/1.43G [00:00<?, ?B/s]"
            ],
            "application/vnd.jupyter.widget-view+json": {
              "version_major": 2,
              "version_minor": 0,
              "model_id": "3fd5b0aec3804d018a4d2d6545d3efea"
            }
          },
          "metadata": {}
        },
        {
          "output_type": "execute_result",
          "data": {
            "text/plain": [
              "CommitInfo(commit_url='https://huggingface.co/alexvumnov/yaml_completion/commit/05587dc57082262a0ed4f828666dccbcbcf26524', commit_message='Upload CodeGenForCausalLM', commit_description='', oid='05587dc57082262a0ed4f828666dccbcbcf26524', pr_url=None, pr_revision=None, pr_num=None)"
            ],
            "application/vnd.google.colaboratory.intrinsic+json": {
              "type": "string"
            }
          },
          "metadata": {},
          "execution_count": 29
        }
      ]
    },
    {
      "cell_type": "code",
      "source": [
        "tokenizer.push_to_hub(\"yaml_completion\")"
      ],
      "metadata": {
        "colab": {
          "base_uri": "https://localhost:8080/",
          "height": 84,
          "referenced_widgets": [
            "8a69b86e497d411e8a2f8edd17b13b6d",
            "d86e6d8768e94fc8a58fd4fdf5b1e134",
            "0b2cef88f0aa4c9dbd0db453aaca712b",
            "d2923bca3d324109b3e5ba2f15f9854b",
            "902deceb49ee44308b2fb811130599d4",
            "2e18d80247bc4dc494dc5a276afada4e",
            "b66b8b70088e483d981c5f3b0d02e34d",
            "5f763cf259134a3da369ac0e4e49d8e0",
            "8f7f2f221cb84c6096de31785b6c3e67",
            "3eef9c936ff64df3958c36d77ea2e853",
            "0f2e0fa3c18d440d88c1c54721ff732d"
          ]
        },
        "id": "SqTOZlyeCDXA",
        "outputId": "e3aac17f-6eb4-44d9-ce74-675b607182ef"
      },
      "execution_count": 30,
      "outputs": [
        {
          "output_type": "display_data",
          "data": {
            "text/plain": [
              "README.md:   0%|          | 0.00/5.17k [00:00<?, ?B/s]"
            ],
            "application/vnd.jupyter.widget-view+json": {
              "version_major": 2,
              "version_minor": 0,
              "model_id": "8a69b86e497d411e8a2f8edd17b13b6d"
            }
          },
          "metadata": {}
        },
        {
          "output_type": "execute_result",
          "data": {
            "text/plain": [
              "CommitInfo(commit_url='https://huggingface.co/alexvumnov/yaml_completion/commit/85524fdc362d2fb9a1d2179c1587b9cb43d0b437', commit_message='Upload tokenizer', commit_description='', oid='85524fdc362d2fb9a1d2179c1587b9cb43d0b437', pr_url=None, pr_revision=None, pr_num=None)"
            ],
            "application/vnd.google.colaboratory.intrinsic+json": {
              "type": "string"
            }
          },
          "metadata": {},
          "execution_count": 30
        }
      ]
    },
    {
      "cell_type": "code",
      "source": [
        "from transformers import AutoModelForCausalLM, AutoTokenizer, pipeline\n",
        "\n",
        "model = AutoModelForCausalLM.from_pretrained(\"alexvumnov/yaml_completion\")\n",
        "tokenizer = AutoTokenizer.from_pretrained(\"alexvumnov/yaml_completion\", padding='left')"
      ],
      "metadata": {
        "colab": {
          "base_uri": "https://localhost:8080/"
        },
        "id": "biDGUzGpEUIs",
        "outputId": "d1294f8e-6ac2-4110-9916-e956fa9347c0"
      },
      "execution_count": 35,
      "outputs": [
        {
          "output_type": "stream",
          "name": "stderr",
          "text": [
            "Special tokens have been added in the vocabulary, make sure the associated word embeddings are fine-tuned or trained.\n"
          ]
        }
      ]
    },
    {
      "cell_type": "code",
      "source": [
        "prompt_format = \"\"\"\n",
        "# Here's a yaml file to offer a completion for\n",
        "# Lines after the current one\n",
        "{text_after}\n",
        "# Lines before the current one\n",
        "{text_before}\n",
        "# Completion:\n",
        "\"\"\""
      ],
      "metadata": {
        "id": "9X4m8jvFFvSS"
      },
      "execution_count": 34,
      "outputs": []
    },
    {
      "cell_type": "code",
      "source": [
        "input_prefix = \"\"\"\n",
        "name: my_awesome_env\n",
        "dependencies:\n",
        "\n",
        "\"\"\"\n",
        "\n",
        "input_suffix = \"\"\"\"\"\""
      ],
      "metadata": {
        "id": "4ok00SKHGCEi"
      },
      "execution_count": 50,
      "outputs": []
    },
    {
      "cell_type": "code",
      "source": [
        "generator = pipeline('text-generation', model=model, tokenizer=tokenizer, device='cuda')"
      ],
      "metadata": {
        "id": "9WDPwIBSGMIF"
      },
      "execution_count": 51,
      "outputs": []
    },
    {
      "cell_type": "code",
      "source": [
        "generator(prompt_format.format(text_after=input_suffix, text_before=input_prefix), max_new_tokens=64)"
      ],
      "metadata": {
        "colab": {
          "base_uri": "https://localhost:8080/"
        },
        "id": "yTS7_mMZGP2G",
        "outputId": "86068be3-1d3e-43cc-dea6-699610d25159"
      },
      "execution_count": 52,
      "outputs": [
        {
          "output_type": "execute_result",
          "data": {
            "text/plain": [
              "[{'generated_text': \"\\n# Here's a yaml file to offer a completion for\\n# Lines after the current one\\n\\n# Lines before the current one\\n\\nname: my_awesome_env\\ndependencies:\\n\\n\\n# Completion:\\n- deploy\"}]"
            ]
          },
          "metadata": {},
          "execution_count": 52
        }
      ]
    },
    {
      "cell_type": "markdown",
      "source": [
        "# Quantization"
      ],
      "metadata": {
        "id": "25W3Aoo1Jn2-"
      }
    },
    {
      "cell_type": "code",
      "source": [
        "!pip install -U accelerate bitsandbytes"
      ],
      "metadata": {
        "colab": {
          "base_uri": "https://localhost:8080/",
          "height": 114
        },
        "id": "agJp7norJFms",
        "outputId": "fef08995-3813-42bd-c1b6-b9218c3fff90"
      },
      "execution_count": 57,
      "outputs": [
        {
          "output_type": "display_data",
          "data": {
            "application/vnd.colab-display-data+json": {
              "pip_warning": {
                "packages": [
                  "accelerate"
                ]
              },
              "id": "374d88add4bc4cb69b69915f675b2aaf"
            }
          },
          "metadata": {}
        }
      ]
    },
    {
      "cell_type": "code",
      "source": [
        "from transformers import AutoModelForCausalLM, AutoTokenizer, pipeline\n"
      ],
      "metadata": {
        "id": "OVRanrurKxzd"
      },
      "execution_count": 1,
      "outputs": []
    },
    {
      "cell_type": "code",
      "source": [
        "from transformers import BitsAndBytesConfig\n",
        "\n",
        "quantization_config = BitsAndBytesConfig(load_in_8bit=True)\n",
        "\n",
        "model_8_bit = AutoModelForCausalLM.from_pretrained(\n",
        "    \"alexvumnov/yaml_completion\",\n",
        "    device_map='auto',\n",
        "    quantization_config=quantization_config\n",
        ")"
      ],
      "metadata": {
        "id": "cs5yQ2BBJyb8"
      },
      "execution_count": 2,
      "outputs": []
    },
    {
      "cell_type": "code",
      "source": [
        "model_8_bit.get_memory_footprint()"
      ],
      "metadata": {
        "colab": {
          "base_uri": "https://localhost:8080/"
        },
        "id": "pmO04FC-KkYF",
        "outputId": "ab77f7da-9784-4da8-8e71-42014400d853"
      },
      "execution_count": 4,
      "outputs": [
        {
          "output_type": "execute_result",
          "data": {
            "text/plain": [
              "545652736"
            ]
          },
          "metadata": {},
          "execution_count": 4
        }
      ]
    },
    {
      "cell_type": "code",
      "source": [
        "model_8_bit.push_to_hub(\"yaml_completion_8bit\")"
      ],
      "metadata": {
        "colab": {
          "base_uri": "https://localhost:8080/",
          "height": 101,
          "referenced_widgets": [
            "67727e4d695945a0b9a061447d4fd49d",
            "76c7e9f8593a4f62a4cf6a335e38c751",
            "0d22e60675e249baba4cc619fae23330",
            "cce282f7228b461cbcb31a6d570f7ea3",
            "82b0d46a72d941e7ba6bc292576ca404",
            "5ff2472ba82943d79b7c37b2fa97e572",
            "a172dd0b32974091999a53fccb925860",
            "97e60fe9795c4fe39e30a52d9653e55c",
            "ff3d1ae934884bbcb2d99e5ce1842a9b",
            "53ac85c202da418eb09a982903552936",
            "1a34ba12a8d44433bdc334641adba2c7"
          ]
        },
        "id": "H88JpLy-K88T",
        "outputId": "27db10b3-009a-477d-853d-93ad29080275"
      },
      "execution_count": 5,
      "outputs": [
        {
          "output_type": "display_data",
          "data": {
            "text/plain": [
              "model.safetensors:   0%|          | 0.00/463M [00:00<?, ?B/s]"
            ],
            "application/vnd.jupyter.widget-view+json": {
              "version_major": 2,
              "version_minor": 0,
              "model_id": "67727e4d695945a0b9a061447d4fd49d"
            }
          },
          "metadata": {}
        },
        {
          "output_type": "execute_result",
          "data": {
            "text/plain": [
              "CommitInfo(commit_url='https://huggingface.co/alexvumnov/yaml_completion_8bit/commit/91f4122dbb258b71aabb3db2d18c5448f20ba89b', commit_message='Upload CodeGenForCausalLM', commit_description='', oid='91f4122dbb258b71aabb3db2d18c5448f20ba89b', pr_url=None, pr_revision=None, pr_num=None)"
            ],
            "application/vnd.google.colaboratory.intrinsic+json": {
              "type": "string"
            }
          },
          "metadata": {},
          "execution_count": 5
        }
      ]
    },
    {
      "cell_type": "code",
      "source": [
        "tokenizer = AutoTokenizer.from_pretrained(\"alexvumnov/yaml_completion\", padding='left')\n",
        "tokenizer.push_to_hub(\"yaml_completion_8bit\")"
      ],
      "metadata": {
        "colab": {
          "base_uri": "https://localhost:8080/",
          "height": 118,
          "referenced_widgets": [
            "716db649b81d4adcb3ab7505aeef1c19",
            "51df984226014ff8b62ff08ca77d1c87",
            "c655c69098d347f98754af8eb01be291",
            "4b1862eea0eb41c29ebfd66cb74335a4",
            "0496d567a49f476693cf4e0aab13c61b",
            "5ba7b194db084d25a3e12a1c59aefe47",
            "0d8f0142525449ba987419cb4325d317",
            "78e129e4df7740d3b39c05f9fa94ce71",
            "c99940809e4f4035805d2dc8cc2fe1d0",
            "042639a6863148d599f538094754c5ee",
            "da47fa85fc0c4dc5bc55a567ba965282"
          ]
        },
        "id": "g9oyc0b9LEWZ",
        "outputId": "2e119a43-a8d6-4c03-a198-2525fe389d9b"
      },
      "execution_count": 6,
      "outputs": [
        {
          "output_type": "stream",
          "name": "stderr",
          "text": [
            "Special tokens have been added in the vocabulary, make sure the associated word embeddings are fine-tuned or trained.\n"
          ]
        },
        {
          "output_type": "display_data",
          "data": {
            "text/plain": [
              "README.md:   0%|          | 0.00/5.17k [00:00<?, ?B/s]"
            ],
            "application/vnd.jupyter.widget-view+json": {
              "version_major": 2,
              "version_minor": 0,
              "model_id": "716db649b81d4adcb3ab7505aeef1c19"
            }
          },
          "metadata": {}
        },
        {
          "output_type": "execute_result",
          "data": {
            "text/plain": [
              "CommitInfo(commit_url='https://huggingface.co/alexvumnov/yaml_completion_8bit/commit/ff6e46e097d8f562fbbcd83ffc81881971f51c9a', commit_message='Upload tokenizer', commit_description='', oid='ff6e46e097d8f562fbbcd83ffc81881971f51c9a', pr_url=None, pr_revision=None, pr_num=None)"
            ],
            "application/vnd.google.colaboratory.intrinsic+json": {
              "type": "string"
            }
          },
          "metadata": {},
          "execution_count": 6
        }
      ]
    },
    {
      "cell_type": "code",
      "source": [],
      "metadata": {
        "id": "xHqO4Sf7Lo2I"
      },
      "execution_count": null,
      "outputs": []
    }
  ]
}